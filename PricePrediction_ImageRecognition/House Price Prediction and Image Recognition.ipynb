{
 "cells": [
  {
   "cell_type": "markdown",
   "metadata": {},
   "source": [
    "## Part 1: House Price Prediction"
   ]
  },
  {
   "cell_type": "markdown",
   "metadata": {},
   "source": [
    "**Goal:** Predict whether the house price is above or below median value, using Zillow’s Home Value Prediction Kaggle competition data"
   ]
  },
  {
   "cell_type": "markdown",
   "metadata": {},
   "source": [
    "### Data Processing and EDA"
   ]
  },
  {
   "cell_type": "code",
   "execution_count": 53,
   "metadata": {},
   "outputs": [],
   "source": [
    "import pandas as pd\n",
    "import numpy as np\n",
    "from sklearn import preprocessing\n",
    "from sklearn.model_selection import train_test_split\n",
    "\n",
    "import matplotlib.pyplot as plt\n",
    "%matplotlib inline\n",
    "\n",
    "from keras.models import Sequential\n",
    "from keras.layers import Dense\n",
    "from keras.layers import Dropout\n",
    "from keras import regularizers\n",
    "from keras.layers import Flatten, Conv2D, MaxPooling2D"
   ]
  },
  {
   "cell_type": "code",
   "execution_count": 2,
   "metadata": {},
   "outputs": [
    {
     "data": {
      "text/html": [
       "<div>\n",
       "<style scoped>\n",
       "    .dataframe tbody tr th:only-of-type {\n",
       "        vertical-align: middle;\n",
       "    }\n",
       "\n",
       "    .dataframe tbody tr th {\n",
       "        vertical-align: top;\n",
       "    }\n",
       "\n",
       "    .dataframe thead th {\n",
       "        text-align: right;\n",
       "    }\n",
       "</style>\n",
       "<table border=\"1\" class=\"dataframe\">\n",
       "  <thead>\n",
       "    <tr style=\"text-align: right;\">\n",
       "      <th></th>\n",
       "      <th>LotArea</th>\n",
       "      <th>OverallQual</th>\n",
       "      <th>OverallCond</th>\n",
       "      <th>TotalBsmtSF</th>\n",
       "      <th>FullBath</th>\n",
       "      <th>HalfBath</th>\n",
       "      <th>BedroomAbvGr</th>\n",
       "      <th>TotRmsAbvGrd</th>\n",
       "      <th>Fireplaces</th>\n",
       "      <th>GarageArea</th>\n",
       "      <th>AboveMedianPrice</th>\n",
       "    </tr>\n",
       "  </thead>\n",
       "  <tbody>\n",
       "    <tr>\n",
       "      <th>0</th>\n",
       "      <td>8450</td>\n",
       "      <td>7</td>\n",
       "      <td>5</td>\n",
       "      <td>856</td>\n",
       "      <td>2</td>\n",
       "      <td>1</td>\n",
       "      <td>3</td>\n",
       "      <td>8</td>\n",
       "      <td>0</td>\n",
       "      <td>548</td>\n",
       "      <td>1</td>\n",
       "    </tr>\n",
       "    <tr>\n",
       "      <th>1</th>\n",
       "      <td>9600</td>\n",
       "      <td>6</td>\n",
       "      <td>8</td>\n",
       "      <td>1262</td>\n",
       "      <td>2</td>\n",
       "      <td>0</td>\n",
       "      <td>3</td>\n",
       "      <td>6</td>\n",
       "      <td>1</td>\n",
       "      <td>460</td>\n",
       "      <td>1</td>\n",
       "    </tr>\n",
       "    <tr>\n",
       "      <th>2</th>\n",
       "      <td>11250</td>\n",
       "      <td>7</td>\n",
       "      <td>5</td>\n",
       "      <td>920</td>\n",
       "      <td>2</td>\n",
       "      <td>1</td>\n",
       "      <td>3</td>\n",
       "      <td>6</td>\n",
       "      <td>1</td>\n",
       "      <td>608</td>\n",
       "      <td>1</td>\n",
       "    </tr>\n",
       "    <tr>\n",
       "      <th>3</th>\n",
       "      <td>9550</td>\n",
       "      <td>7</td>\n",
       "      <td>5</td>\n",
       "      <td>756</td>\n",
       "      <td>1</td>\n",
       "      <td>0</td>\n",
       "      <td>3</td>\n",
       "      <td>7</td>\n",
       "      <td>1</td>\n",
       "      <td>642</td>\n",
       "      <td>0</td>\n",
       "    </tr>\n",
       "    <tr>\n",
       "      <th>4</th>\n",
       "      <td>14260</td>\n",
       "      <td>8</td>\n",
       "      <td>5</td>\n",
       "      <td>1145</td>\n",
       "      <td>2</td>\n",
       "      <td>1</td>\n",
       "      <td>4</td>\n",
       "      <td>9</td>\n",
       "      <td>1</td>\n",
       "      <td>836</td>\n",
       "      <td>1</td>\n",
       "    </tr>\n",
       "  </tbody>\n",
       "</table>\n",
       "</div>"
      ],
      "text/plain": [
       "   LotArea  OverallQual  OverallCond  TotalBsmtSF  FullBath  HalfBath  \\\n",
       "0     8450            7            5          856         2         1   \n",
       "1     9600            6            8         1262         2         0   \n",
       "2    11250            7            5          920         2         1   \n",
       "3     9550            7            5          756         1         0   \n",
       "4    14260            8            5         1145         2         1   \n",
       "\n",
       "   BedroomAbvGr  TotRmsAbvGrd  Fireplaces  GarageArea  AboveMedianPrice  \n",
       "0             3             8           0         548                 1  \n",
       "1             3             6           1         460                 1  \n",
       "2             3             6           1         608                 1  \n",
       "3             3             7           1         642                 0  \n",
       "4             4             9           1         836                 1  "
      ]
     },
     "execution_count": 2,
     "metadata": {},
     "output_type": "execute_result"
    }
   ],
   "source": [
    "df = pd.read_csv('housepricedata.csv')\n",
    "df.head()"
   ]
  },
  {
   "cell_type": "code",
   "execution_count": 3,
   "metadata": {},
   "outputs": [
    {
     "data": {
      "text/plain": [
       "array([[ 8450,     7,     5, ...,     0,   548,     1],\n",
       "       [ 9600,     6,     8, ...,     1,   460,     1],\n",
       "       [11250,     7,     5, ...,     1,   608,     1],\n",
       "       ...,\n",
       "       [ 9042,     7,     9, ...,     2,   252,     1],\n",
       "       [ 9717,     5,     6, ...,     0,   240,     0],\n",
       "       [ 9937,     5,     6, ...,     0,   276,     0]])"
      ]
     },
     "execution_count": 3,
     "metadata": {},
     "output_type": "execute_result"
    }
   ],
   "source": [
    "# Convert it to an array by accessing its values\n",
    "dataset = df.values\n",
    "dataset"
   ]
  },
  {
   "cell_type": "code",
   "execution_count": 4,
   "metadata": {},
   "outputs": [],
   "source": [
    "# Split the dataset\n",
    "X = dataset[:,0:10]\n",
    "Y = dataset[:,10]"
   ]
  },
  {
   "cell_type": "markdown",
   "metadata": {},
   "source": [
    "#### Data normalization\n",
    "- Normalizing data to make the input features to be on the same order of magnitude to make training easier. \n",
    "- We'll use a min-max scaler from scikit-learn which scales our data to be between 0 and 1."
   ]
  },
  {
   "cell_type": "code",
   "execution_count": 7,
   "metadata": {},
   "outputs": [
    {
     "data": {
      "text/plain": [
       "array([[0.0334198 , 0.66666667, 0.5       , ..., 0.5       , 0.        ,\n",
       "        0.3864598 ],\n",
       "       [0.03879502, 0.55555556, 0.875     , ..., 0.33333333, 0.33333333,\n",
       "        0.32440056],\n",
       "       [0.04650728, 0.66666667, 0.5       , ..., 0.33333333, 0.33333333,\n",
       "        0.42877292],\n",
       "       ...,\n",
       "       [0.03618687, 0.66666667, 1.        , ..., 0.58333333, 0.66666667,\n",
       "        0.17771509],\n",
       "       [0.03934189, 0.44444444, 0.625     , ..., 0.25      , 0.        ,\n",
       "        0.16925247],\n",
       "       [0.04037019, 0.44444444, 0.625     , ..., 0.33333333, 0.        ,\n",
       "        0.19464034]])"
      ]
     },
     "execution_count": 7,
     "metadata": {},
     "output_type": "execute_result"
    }
   ],
   "source": [
    "min_max_scaler = preprocessing.MinMaxScaler()\n",
    "X_scale = min_max_scaler.fit_transform(X)\n",
    "X_scale"
   ]
  },
  {
   "cell_type": "markdown",
   "metadata": {},
   "source": [
    "#### Train and Test Split\n",
    "- Set aside some parts of our dataset for a validation set and a test set. \n",
    "- Use the function train_test_split from scikit-learn to split."
   ]
  },
  {
   "cell_type": "code",
   "execution_count": 9,
   "metadata": {},
   "outputs": [],
   "source": [
    "X_train, X_val_and_test, Y_train, Y_val_and_test = train_test_split(X_scale, Y, test_size=0.3)\n",
    "\n",
    "X_val, X_test, Y_val, Y_test = train_test_split(X_val_and_test, Y_val_and_test, test_size=0.5)"
   ]
  },
  {
   "cell_type": "code",
   "execution_count": 10,
   "metadata": {},
   "outputs": [
    {
     "name": "stdout",
     "output_type": "stream",
     "text": [
      "(1022, 10) (219, 10) (219, 10) (1022,) (219,) (219,)\n"
     ]
    }
   ],
   "source": [
    "print(X_train.shape, X_val.shape, X_test.shape, Y_train.shape, Y_val.shape, Y_test.shape)"
   ]
  },
  {
   "cell_type": "markdown",
   "metadata": {},
   "source": [
    "### Build and Train Neural Network"
   ]
  },
  {
   "cell_type": "markdown",
   "metadata": {},
   "source": [
    "Use the Sequential model: merely need to describe the layers above in sequence. \n",
    "Our neural network has 3 layers:\n",
    "- Hidden layer 1: 30 neurons, ReLU activation\n",
    "- Hidden layer 2: 30 neurons, ReLU activation\n",
    "- Output Layer: 1 neuron, Sigmoid activation"
   ]
  },
  {
   "cell_type": "code",
   "execution_count": 12,
   "metadata": {},
   "outputs": [],
   "source": [
    "# Specify the architecture\n",
    "model = Sequential([\n",
    "    Dense(32, activation='relu', input_shape=(10,)),\n",
    "    Dense(32, activation='relu'),\n",
    "    Dense(1, activation='sigmoid'),\n",
    "])"
   ]
  },
  {
   "cell_type": "markdown",
   "metadata": {},
   "source": [
    "Find the best numbers for the model. Before starting training, we have to configure the model by telling:\n",
    "- What algorithm to use to do the optimization (we'll use stochastic gradient descent)\n",
    "- What loss function to use (for binary classification, we will use binary cross entropy)\n",
    "- What other metrics to track apart from the loss function (we want to track accuracy as well)"
   ]
  },
  {
   "cell_type": "code",
   "execution_count": 27,
   "metadata": {},
   "outputs": [],
   "source": [
    "model.compile(optimizer='sgd',\n",
    "              loss='binary_crossentropy',\n",
    "              metrics=['accuracy'])"
   ]
  },
  {
   "cell_type": "markdown",
   "metadata": {},
   "source": [
    "Training on the data is pretty straightforward and requires us to write one line of code. The function is called 'fit' as we are fitting the parameters to the data. We specify:\n",
    "- what data we are training on, which is X_train and Y_train\n",
    "- the size of our mini-batch\n",
    "- how long we want to train it for (epochs)\n",
    "- what our validation data is, so that the model will tell us how we are doing on the validation data at each point."
   ]
  },
  {
   "cell_type": "markdown",
   "metadata": {},
   "source": [
    "This function will output a history, which we save under the variable hist. We'll use this variable a little later."
   ]
  },
  {
   "cell_type": "code",
   "execution_count": 28,
   "metadata": {},
   "outputs": [
    {
     "name": "stdout",
     "output_type": "stream",
     "text": [
      "Train on 1022 samples, validate on 219 samples\n",
      "Epoch 1/100\n",
      "1022/1022 [==============================] - 0s 191us/step - loss: 0.2410 - accuracy: 0.9080 - val_loss: 0.3355 - val_accuracy: 0.8493\n",
      "Epoch 2/100\n",
      "1022/1022 [==============================] - 0s 59us/step - loss: 0.2406 - accuracy: 0.9100 - val_loss: 0.3356 - val_accuracy: 0.8493\n",
      "Epoch 3/100\n",
      "1022/1022 [==============================] - 0s 84us/step - loss: 0.2407 - accuracy: 0.9061 - val_loss: 0.3254 - val_accuracy: 0.8356\n",
      "Epoch 4/100\n",
      "1022/1022 [==============================] - 0s 92us/step - loss: 0.2399 - accuracy: 0.9051 - val_loss: 0.3277 - val_accuracy: 0.8402\n",
      "Epoch 5/100\n",
      "1022/1022 [==============================] - 0s 82us/step - loss: 0.2407 - accuracy: 0.9041 - val_loss: 0.3273 - val_accuracy: 0.8402\n",
      "Epoch 6/100\n",
      "1022/1022 [==============================] - 0s 94us/step - loss: 0.2394 - accuracy: 0.9080 - val_loss: 0.3329 - val_accuracy: 0.8539\n",
      "Epoch 7/100\n",
      "1022/1022 [==============================] - 0s 78us/step - loss: 0.2392 - accuracy: 0.9090 - val_loss: 0.3227 - val_accuracy: 0.8402\n",
      "Epoch 8/100\n",
      "1022/1022 [==============================] - 0s 88us/step - loss: 0.2377 - accuracy: 0.9110 - val_loss: 0.3410 - val_accuracy: 0.8493\n",
      "Epoch 9/100\n",
      "1022/1022 [==============================] - 0s 66us/step - loss: 0.2400 - accuracy: 0.9080 - val_loss: 0.3264 - val_accuracy: 0.8402\n",
      "Epoch 10/100\n",
      "1022/1022 [==============================] - 0s 105us/step - loss: 0.2381 - accuracy: 0.9100 - val_loss: 0.3367 - val_accuracy: 0.8493\n",
      "Epoch 11/100\n",
      "1022/1022 [==============================] - 0s 86us/step - loss: 0.2393 - accuracy: 0.9110 - val_loss: 0.3245 - val_accuracy: 0.8356\n",
      "Epoch 12/100\n",
      "1022/1022 [==============================] - 0s 58us/step - loss: 0.2403 - accuracy: 0.9080 - val_loss: 0.3269 - val_accuracy: 0.8402\n",
      "Epoch 13/100\n",
      "1022/1022 [==============================] - 0s 47us/step - loss: 0.2385 - accuracy: 0.9041 - val_loss: 0.3226 - val_accuracy: 0.8402\n",
      "Epoch 14/100\n",
      "1022/1022 [==============================] - 0s 55us/step - loss: 0.2390 - accuracy: 0.9051 - val_loss: 0.3324 - val_accuracy: 0.8539\n",
      "Epoch 15/100\n",
      "1022/1022 [==============================] - 0s 48us/step - loss: 0.2386 - accuracy: 0.9070 - val_loss: 0.3256 - val_accuracy: 0.8402\n",
      "Epoch 16/100\n",
      "1022/1022 [==============================] - 0s 48us/step - loss: 0.2384 - accuracy: 0.9070 - val_loss: 0.3237 - val_accuracy: 0.8356\n",
      "Epoch 17/100\n",
      "1022/1022 [==============================] - 0s 51us/step - loss: 0.2393 - accuracy: 0.9080 - val_loss: 0.3266 - val_accuracy: 0.8402\n",
      "Epoch 18/100\n",
      "1022/1022 [==============================] - 0s 49us/step - loss: 0.2381 - accuracy: 0.9031 - val_loss: 0.3277 - val_accuracy: 0.8493\n",
      "Epoch 19/100\n",
      "1022/1022 [==============================] - 0s 48us/step - loss: 0.2383 - accuracy: 0.9110 - val_loss: 0.3275 - val_accuracy: 0.8493\n",
      "Epoch 20/100\n",
      "1022/1022 [==============================] - 0s 48us/step - loss: 0.2378 - accuracy: 0.9119 - val_loss: 0.3288 - val_accuracy: 0.8539\n",
      "Epoch 21/100\n",
      "1022/1022 [==============================] - 0s 58us/step - loss: 0.2390 - accuracy: 0.9061 - val_loss: 0.3230 - val_accuracy: 0.8356\n",
      "Epoch 22/100\n",
      "1022/1022 [==============================] - 0s 72us/step - loss: 0.2371 - accuracy: 0.9110 - val_loss: 0.3260 - val_accuracy: 0.8402\n",
      "Epoch 23/100\n",
      "1022/1022 [==============================] - 0s 65us/step - loss: 0.2374 - accuracy: 0.9110 - val_loss: 0.3232 - val_accuracy: 0.8356\n",
      "Epoch 24/100\n",
      "1022/1022 [==============================] - 0s 70us/step - loss: 0.2373 - accuracy: 0.9090 - val_loss: 0.3252 - val_accuracy: 0.8402\n",
      "Epoch 25/100\n",
      "1022/1022 [==============================] - 0s 62us/step - loss: 0.2363 - accuracy: 0.9090 - val_loss: 0.3295 - val_accuracy: 0.8539\n",
      "Epoch 26/100\n",
      "1022/1022 [==============================] - 0s 61us/step - loss: 0.2374 - accuracy: 0.9051 - val_loss: 0.3225 - val_accuracy: 0.8356\n",
      "Epoch 27/100\n",
      "1022/1022 [==============================] - 0s 55us/step - loss: 0.2366 - accuracy: 0.9080 - val_loss: 0.3310 - val_accuracy: 0.8539\n",
      "Epoch 28/100\n",
      "1022/1022 [==============================] - 0s 76us/step - loss: 0.2369 - accuracy: 0.9080 - val_loss: 0.3270 - val_accuracy: 0.8539\n",
      "Epoch 29/100\n",
      "1022/1022 [==============================] - 0s 69us/step - loss: 0.2367 - accuracy: 0.9110 - val_loss: 0.3304 - val_accuracy: 0.8539\n",
      "Epoch 30/100\n",
      "1022/1022 [==============================] - 0s 88us/step - loss: 0.2362 - accuracy: 0.9080 - val_loss: 0.3251 - val_accuracy: 0.8402\n",
      "Epoch 31/100\n",
      "1022/1022 [==============================] - 0s 83us/step - loss: 0.2366 - accuracy: 0.9100 - val_loss: 0.3258 - val_accuracy: 0.8447\n",
      "Epoch 32/100\n",
      "1022/1022 [==============================] - 0s 69us/step - loss: 0.2357 - accuracy: 0.9129 - val_loss: 0.3269 - val_accuracy: 0.8539\n",
      "Epoch 33/100\n",
      "1022/1022 [==============================] - 0s 63us/step - loss: 0.2349 - accuracy: 0.9090 - val_loss: 0.3206 - val_accuracy: 0.8402\n",
      "Epoch 34/100\n",
      "1022/1022 [==============================] - 0s 56us/step - loss: 0.2359 - accuracy: 0.9070 - val_loss: 0.3257 - val_accuracy: 0.8493\n",
      "Epoch 35/100\n",
      "1022/1022 [==============================] - 0s 59us/step - loss: 0.2359 - accuracy: 0.9080 - val_loss: 0.3245 - val_accuracy: 0.8447\n",
      "Epoch 36/100\n",
      "1022/1022 [==============================] - 0s 79us/step - loss: 0.2365 - accuracy: 0.9100 - val_loss: 0.3290 - val_accuracy: 0.8584\n",
      "Epoch 37/100\n",
      "1022/1022 [==============================] - 0s 52us/step - loss: 0.2356 - accuracy: 0.9100 - val_loss: 0.3219 - val_accuracy: 0.8356\n",
      "Epoch 38/100\n",
      "1022/1022 [==============================] - 0s 51us/step - loss: 0.2350 - accuracy: 0.9100 - val_loss: 0.3291 - val_accuracy: 0.8584\n",
      "Epoch 39/100\n",
      "1022/1022 [==============================] - 0s 54us/step - loss: 0.2357 - accuracy: 0.9090 - val_loss: 0.3348 - val_accuracy: 0.8493\n",
      "Epoch 40/100\n",
      "1022/1022 [==============================] - 0s 47us/step - loss: 0.2358 - accuracy: 0.9080 - val_loss: 0.3281 - val_accuracy: 0.8539\n",
      "Epoch 41/100\n",
      "1022/1022 [==============================] - 0s 46us/step - loss: 0.2361 - accuracy: 0.9100 - val_loss: 0.3237 - val_accuracy: 0.8447\n",
      "Epoch 42/100\n",
      "1022/1022 [==============================] - 0s 47us/step - loss: 0.2347 - accuracy: 0.9100 - val_loss: 0.3251 - val_accuracy: 0.8493\n",
      "Epoch 43/100\n",
      "1022/1022 [==============================] - 0s 47us/step - loss: 0.2347 - accuracy: 0.9090 - val_loss: 0.3254 - val_accuracy: 0.8493\n",
      "Epoch 44/100\n",
      "1022/1022 [==============================] - 0s 45us/step - loss: 0.2357 - accuracy: 0.9100 - val_loss: 0.3269 - val_accuracy: 0.8539\n",
      "Epoch 45/100\n",
      "1022/1022 [==============================] - 0s 54us/step - loss: 0.2354 - accuracy: 0.9119 - val_loss: 0.3296 - val_accuracy: 0.8539\n",
      "Epoch 46/100\n",
      "1022/1022 [==============================] - 0s 82us/step - loss: 0.2353 - accuracy: 0.9070 - val_loss: 0.3256 - val_accuracy: 0.8493\n",
      "Epoch 47/100\n",
      "1022/1022 [==============================] - 0s 81us/step - loss: 0.2344 - accuracy: 0.9051 - val_loss: 0.3226 - val_accuracy: 0.8402\n",
      "Epoch 48/100\n",
      "1022/1022 [==============================] - 0s 73us/step - loss: 0.2344 - accuracy: 0.9159 - val_loss: 0.3232 - val_accuracy: 0.8493\n",
      "Epoch 49/100\n",
      "1022/1022 [==============================] - 0s 66us/step - loss: 0.2338 - accuracy: 0.9110 - val_loss: 0.3167 - val_accuracy: 0.8447\n",
      "Epoch 50/100\n",
      "1022/1022 [==============================] - 0s 77us/step - loss: 0.2346 - accuracy: 0.9061 - val_loss: 0.3222 - val_accuracy: 0.8447\n",
      "Epoch 51/100\n",
      "1022/1022 [==============================] - 0s 124us/step - loss: 0.2332 - accuracy: 0.9119 - val_loss: 0.3267 - val_accuracy: 0.8539\n",
      "Epoch 52/100\n",
      "1022/1022 [==============================] - 0s 96us/step - loss: 0.2341 - accuracy: 0.9100 - val_loss: 0.3277 - val_accuracy: 0.8584\n",
      "Epoch 53/100\n",
      "1022/1022 [==============================] - 0s 58us/step - loss: 0.2329 - accuracy: 0.9139 - val_loss: 0.3360 - val_accuracy: 0.8447\n",
      "Epoch 54/100\n",
      "1022/1022 [==============================] - 0s 52us/step - loss: 0.2333 - accuracy: 0.9070 - val_loss: 0.3218 - val_accuracy: 0.8447\n",
      "Epoch 55/100\n",
      "1022/1022 [==============================] - 0s 74us/step - loss: 0.2343 - accuracy: 0.9139 - val_loss: 0.3237 - val_accuracy: 0.8493\n",
      "Epoch 56/100\n"
     ]
    },
    {
     "name": "stdout",
     "output_type": "stream",
     "text": [
      "1022/1022 [==============================] - 0s 80us/step - loss: 0.2330 - accuracy: 0.9080 - val_loss: 0.3326 - val_accuracy: 0.8493\n",
      "Epoch 57/100\n",
      "1022/1022 [==============================] - 0s 70us/step - loss: 0.2340 - accuracy: 0.9090 - val_loss: 0.3269 - val_accuracy: 0.8584\n",
      "Epoch 58/100\n",
      "1022/1022 [==============================] - 0s 76us/step - loss: 0.2329 - accuracy: 0.9110 - val_loss: 0.3194 - val_accuracy: 0.8402\n",
      "Epoch 59/100\n",
      "1022/1022 [==============================] - 0s 61us/step - loss: 0.2336 - accuracy: 0.9129 - val_loss: 0.3250 - val_accuracy: 0.8539\n",
      "Epoch 60/100\n",
      "1022/1022 [==============================] - 0s 91us/step - loss: 0.2335 - accuracy: 0.9080 - val_loss: 0.3203 - val_accuracy: 0.8447\n",
      "Epoch 61/100\n",
      "1022/1022 [==============================] - 0s 77us/step - loss: 0.2331 - accuracy: 0.9090 - val_loss: 0.3211 - val_accuracy: 0.8447\n",
      "Epoch 62/100\n",
      "1022/1022 [==============================] - 0s 49us/step - loss: 0.2330 - accuracy: 0.9100 - val_loss: 0.3215 - val_accuracy: 0.8493\n",
      "Epoch 63/100\n",
      "1022/1022 [==============================] - 0s 44us/step - loss: 0.2331 - accuracy: 0.9080 - val_loss: 0.3242 - val_accuracy: 0.8539\n",
      "Epoch 64/100\n",
      "1022/1022 [==============================] - 0s 45us/step - loss: 0.2326 - accuracy: 0.9070 - val_loss: 0.3180 - val_accuracy: 0.8402\n",
      "Epoch 65/100\n",
      "1022/1022 [==============================] - 0s 49us/step - loss: 0.2334 - accuracy: 0.9100 - val_loss: 0.3209 - val_accuracy: 0.8447\n",
      "Epoch 66/100\n",
      "1022/1022 [==============================] - 0s 46us/step - loss: 0.2329 - accuracy: 0.9100 - val_loss: 0.3262 - val_accuracy: 0.8539\n",
      "Epoch 67/100\n",
      "1022/1022 [==============================] - 0s 48us/step - loss: 0.2314 - accuracy: 0.9110 - val_loss: 0.3198 - val_accuracy: 0.8447\n",
      "Epoch 68/100\n",
      "1022/1022 [==============================] - 0s 45us/step - loss: 0.2329 - accuracy: 0.9070 - val_loss: 0.3210 - val_accuracy: 0.8447\n",
      "Epoch 69/100\n",
      "1022/1022 [==============================] - 0s 49us/step - loss: 0.2321 - accuracy: 0.9119 - val_loss: 0.3177 - val_accuracy: 0.8402\n",
      "Epoch 70/100\n",
      "1022/1022 [==============================] - 0s 46us/step - loss: 0.2323 - accuracy: 0.9080 - val_loss: 0.3220 - val_accuracy: 0.8493\n",
      "Epoch 71/100\n",
      "1022/1022 [==============================] - 0s 73us/step - loss: 0.2323 - accuracy: 0.9080 - val_loss: 0.3281 - val_accuracy: 0.8539\n",
      "Epoch 72/100\n",
      "1022/1022 [==============================] - 0s 92us/step - loss: 0.2321 - accuracy: 0.9080 - val_loss: 0.3194 - val_accuracy: 0.8447\n",
      "Epoch 73/100\n",
      "1022/1022 [==============================] - 0s 69us/step - loss: 0.2321 - accuracy: 0.9119 - val_loss: 0.3182 - val_accuracy: 0.8493\n",
      "Epoch 74/100\n",
      "1022/1022 [==============================] - 0s 51us/step - loss: 0.2316 - accuracy: 0.9070 - val_loss: 0.3174 - val_accuracy: 0.8402\n",
      "Epoch 75/100\n",
      "1022/1022 [==============================] - 0s 53us/step - loss: 0.2326 - accuracy: 0.9080 - val_loss: 0.3225 - val_accuracy: 0.8539\n",
      "Epoch 76/100\n",
      "1022/1022 [==============================] - 0s 52us/step - loss: 0.2316 - accuracy: 0.9090 - val_loss: 0.3277 - val_accuracy: 0.8539\n",
      "Epoch 77/100\n",
      "1022/1022 [==============================] - 0s 48us/step - loss: 0.2323 - accuracy: 0.9022 - val_loss: 0.3181 - val_accuracy: 0.8493\n",
      "Epoch 78/100\n",
      "1022/1022 [==============================] - 0s 46us/step - loss: 0.2314 - accuracy: 0.9070 - val_loss: 0.3178 - val_accuracy: 0.8493\n",
      "Epoch 79/100\n",
      "1022/1022 [==============================] - 0s 47us/step - loss: 0.2319 - accuracy: 0.9090 - val_loss: 0.3258 - val_accuracy: 0.8584\n",
      "Epoch 80/100\n",
      "1022/1022 [==============================] - 0s 46us/step - loss: 0.2313 - accuracy: 0.9168 - val_loss: 0.3235 - val_accuracy: 0.8539\n",
      "Epoch 81/100\n",
      "1022/1022 [==============================] - 0s 48us/step - loss: 0.2317 - accuracy: 0.9129 - val_loss: 0.3265 - val_accuracy: 0.8584\n",
      "Epoch 82/100\n",
      "1022/1022 [==============================] - 0s 45us/step - loss: 0.2304 - accuracy: 0.9090 - val_loss: 0.3173 - val_accuracy: 0.8447\n",
      "Epoch 83/100\n",
      "1022/1022 [==============================] - 0s 44us/step - loss: 0.2313 - accuracy: 0.9119 - val_loss: 0.3227 - val_accuracy: 0.8539\n",
      "Epoch 84/100\n",
      "1022/1022 [==============================] - 0s 44us/step - loss: 0.2314 - accuracy: 0.9090 - val_loss: 0.3228 - val_accuracy: 0.8539\n",
      "Epoch 85/100\n",
      "1022/1022 [==============================] - 0s 50us/step - loss: 0.2306 - accuracy: 0.9100 - val_loss: 0.3208 - val_accuracy: 0.8493\n",
      "Epoch 86/100\n",
      "1022/1022 [==============================] - 0s 43us/step - loss: 0.2313 - accuracy: 0.9070 - val_loss: 0.3274 - val_accuracy: 0.8539\n",
      "Epoch 87/100\n",
      "1022/1022 [==============================] - 0s 51us/step - loss: 0.2307 - accuracy: 0.9119 - val_loss: 0.3202 - val_accuracy: 0.8493\n",
      "Epoch 88/100\n",
      "1022/1022 [==============================] - 0s 56us/step - loss: 0.2300 - accuracy: 0.9119 - val_loss: 0.3223 - val_accuracy: 0.8539\n",
      "Epoch 89/100\n",
      "1022/1022 [==============================] - 0s 50us/step - loss: 0.2311 - accuracy: 0.9070 - val_loss: 0.3180 - val_accuracy: 0.8447\n",
      "Epoch 90/100\n",
      "1022/1022 [==============================] - 0s 66us/step - loss: 0.2300 - accuracy: 0.9080 - val_loss: 0.3275 - val_accuracy: 0.8539\n",
      "Epoch 91/100\n",
      "1022/1022 [==============================] - 0s 56us/step - loss: 0.2307 - accuracy: 0.9110 - val_loss: 0.3263 - val_accuracy: 0.8584\n",
      "Epoch 92/100\n",
      "1022/1022 [==============================] - 0s 48us/step - loss: 0.2299 - accuracy: 0.9110 - val_loss: 0.3178 - val_accuracy: 0.8447\n",
      "Epoch 93/100\n",
      "1022/1022 [==============================] - 0s 43us/step - loss: 0.2311 - accuracy: 0.9100 - val_loss: 0.3168 - val_accuracy: 0.8447\n",
      "Epoch 94/100\n",
      "1022/1022 [==============================] - 0s 42us/step - loss: 0.2301 - accuracy: 0.9139 - val_loss: 0.3204 - val_accuracy: 0.8493\n",
      "Epoch 95/100\n",
      "1022/1022 [==============================] - 0s 43us/step - loss: 0.2298 - accuracy: 0.9129 - val_loss: 0.3216 - val_accuracy: 0.8539\n",
      "Epoch 96/100\n",
      "1022/1022 [==============================] - 0s 52us/step - loss: 0.2292 - accuracy: 0.9119 - val_loss: 0.3154 - val_accuracy: 0.8402\n",
      "Epoch 97/100\n",
      "1022/1022 [==============================] - 0s 49us/step - loss: 0.2303 - accuracy: 0.9129 - val_loss: 0.3170 - val_accuracy: 0.8447\n",
      "Epoch 98/100\n",
      "1022/1022 [==============================] - 0s 55us/step - loss: 0.2299 - accuracy: 0.9139 - val_loss: 0.3203 - val_accuracy: 0.8493\n",
      "Epoch 99/100\n",
      "1022/1022 [==============================] - 0s 54us/step - loss: 0.2292 - accuracy: 0.9129 - val_loss: 0.3189 - val_accuracy: 0.8493\n",
      "Epoch 100/100\n",
      "1022/1022 [==============================] - 0s 51us/step - loss: 0.2289 - accuracy: 0.9080 - val_loss: 0.3224 - val_accuracy: 0.8539\n"
     ]
    }
   ],
   "source": [
    "hist = model.fit(X_train, Y_train,\n",
    "          batch_size=32, epochs=100,\n",
    "          validation_data=(X_val, Y_val))"
   ]
  },
  {
   "cell_type": "code",
   "execution_count": 29,
   "metadata": {},
   "outputs": [
    {
     "name": "stdout",
     "output_type": "stream",
     "text": [
      "219/219 [==============================] - 0s 46us/step\n"
     ]
    },
    {
     "data": {
      "text/plain": [
       "0.8858447670936584"
      ]
     },
     "execution_count": 29,
     "metadata": {},
     "output_type": "execute_result"
    }
   ],
   "source": [
    "# Evaluate the model on test data\n",
    "model.evaluate(X_test, Y_test)[1]"
   ]
  },
  {
   "cell_type": "markdown",
   "metadata": {},
   "source": [
    "## Visualization of Loss and Accuracy"
   ]
  },
  {
   "cell_type": "code",
   "execution_count": 30,
   "metadata": {},
   "outputs": [
    {
     "data": {
      "image/png": "[encoded data removed]",
      "text/plain": [
       "<Figure size 432x288 with 1 Axes>"
      ]
     },
     "metadata": {
      "needs_background": "light"
     },
     "output_type": "display_data"
    }
   ],
   "source": [
    "# Visualize the training loss and the validation loss\n",
    "plt.plot(hist.history['loss'])\n",
    "plt.plot(hist.history['val_loss'])\n",
    "plt.title('Model loss')\n",
    "plt.ylabel('Loss')\n",
    "plt.xlabel('Epoch')\n",
    "plt.legend(['Train', 'Val'], loc='upper right')\n",
    "plt.show()"
   ]
  },
  {
   "cell_type": "code",
   "execution_count": 31,
   "metadata": {},
   "outputs": [
    {
     "data": {
      "image/png": "[encoded data removed]",
      "text/plain": [
       "<Figure size 432x288 with 1 Axes>"
      ]
     },
     "metadata": {
      "needs_background": "light"
     },
     "output_type": "display_data"
    }
   ],
   "source": [
    "# Visualize the training accurarcy and the validation accuracy\n",
    "plt.plot(hist.history['accuracy'])\n",
    "plt.plot(hist.history['val_accuracy'])\n",
    "plt.title('Model accuracy')\n",
    "plt.ylabel('Accuracy')\n",
    "plt.xlabel('Epoch')\n",
    "plt.legend(['Train', 'Val'], loc='lower right')\n",
    "plt.show()"
   ]
  },
  {
   "cell_type": "markdown",
   "metadata": {},
   "source": [
    "## Add Regularization to Neural Network\n",
    "We'll train a model which will overfit, which we call Model 2."
   ]
  },
  {
   "cell_type": "code",
   "execution_count": 32,
   "metadata": {},
   "outputs": [
    {
     "name": "stdout",
     "output_type": "stream",
     "text": [
      "Train on 1022 samples, validate on 219 samples\n",
      "Epoch 1/100\n",
      "1022/1022 [==============================] - 2s 2ms/step - loss: 0.4415 - accuracy: 0.8023 - val_loss: 0.4000 - val_accuracy: 0.8082\n",
      "Epoch 2/100\n",
      "1022/1022 [==============================] - 2s 2ms/step - loss: 0.3458 - accuracy: 0.8650 - val_loss: 0.3640 - val_accuracy: 0.8356\n",
      "Epoch 3/100\n",
      "1022/1022 [==============================] - 3s 3ms/step - loss: 0.2945 - accuracy: 0.8757 - val_loss: 0.3453 - val_accuracy: 0.8402\n",
      "Epoch 4/100\n",
      "1022/1022 [==============================] - 2s 2ms/step - loss: 0.2889 - accuracy: 0.8777 - val_loss: 0.3121 - val_accuracy: 0.8584\n",
      "Epoch 5/100\n",
      "1022/1022 [==============================] - 2s 2ms/step - loss: 0.2687 - accuracy: 0.8982 - val_loss: 0.3062 - val_accuracy: 0.8584\n",
      "Epoch 6/100\n",
      "1022/1022 [==============================] - 2s 2ms/step - loss: 0.2598 - accuracy: 0.9031 - val_loss: 0.2921 - val_accuracy: 0.8447\n",
      "Epoch 7/100\n",
      "1022/1022 [==============================] - 2s 2ms/step - loss: 0.2671 - accuracy: 0.8836 - val_loss: 0.3216 - val_accuracy: 0.8539\n",
      "Epoch 8/100\n",
      "1022/1022 [==============================] - 2s 2ms/step - loss: 0.2485 - accuracy: 0.8992 - val_loss: 0.2992 - val_accuracy: 0.8493\n",
      "Epoch 9/100\n",
      "1022/1022 [==============================] - 2s 2ms/step - loss: 0.2268 - accuracy: 0.9119 - val_loss: 0.3090 - val_accuracy: 0.8676\n",
      "Epoch 10/100\n",
      "1022/1022 [==============================] - 2s 2ms/step - loss: 0.2341 - accuracy: 0.9061 - val_loss: 0.3775 - val_accuracy: 0.8493\n",
      "Epoch 11/100\n",
      "1022/1022 [==============================] - 2s 2ms/step - loss: 0.2506 - accuracy: 0.8953 - val_loss: 0.3876 - val_accuracy: 0.8493\n",
      "Epoch 12/100\n",
      "1022/1022 [==============================] - 2s 2ms/step - loss: 0.2330 - accuracy: 0.9051 - val_loss: 0.2762 - val_accuracy: 0.8539\n",
      "Epoch 13/100\n",
      "1022/1022 [==============================] - 2s 2ms/step - loss: 0.2175 - accuracy: 0.9002 - val_loss: 0.2935 - val_accuracy: 0.8584\n",
      "Epoch 14/100\n",
      "1022/1022 [==============================] - 2s 2ms/step - loss: 0.2476 - accuracy: 0.9022 - val_loss: 0.3245 - val_accuracy: 0.8630\n",
      "Epoch 15/100\n",
      "1022/1022 [==============================] - 2s 2ms/step - loss: 0.2232 - accuracy: 0.9119 - val_loss: 0.2759 - val_accuracy: 0.8493\n",
      "Epoch 16/100\n",
      "1022/1022 [==============================] - 2s 2ms/step - loss: 0.2473 - accuracy: 0.9041 - val_loss: 0.2726 - val_accuracy: 0.8721\n",
      "Epoch 17/100\n",
      "1022/1022 [==============================] - 2s 2ms/step - loss: 0.2037 - accuracy: 0.9159 - val_loss: 0.3350 - val_accuracy: 0.8767\n",
      "Epoch 18/100\n",
      "1022/1022 [==============================] - 2s 2ms/step - loss: 0.2012 - accuracy: 0.9247 - val_loss: 0.3878 - val_accuracy: 0.8676\n",
      "Epoch 19/100\n",
      "1022/1022 [==============================] - 2s 2ms/step - loss: 0.2186 - accuracy: 0.9100 - val_loss: 0.2672 - val_accuracy: 0.8630\n",
      "Epoch 20/100\n",
      "1022/1022 [==============================] - 2s 2ms/step - loss: 0.1997 - accuracy: 0.9178 - val_loss: 0.2954 - val_accuracy: 0.8539\n",
      "Epoch 21/100\n",
      "1022/1022 [==============================] - 2s 2ms/step - loss: 0.1893 - accuracy: 0.9198 - val_loss: 0.2824 - val_accuracy: 0.8676\n",
      "Epoch 22/100\n",
      "1022/1022 [==============================] - 3s 2ms/step - loss: 0.1942 - accuracy: 0.9207 - val_loss: 0.2869 - val_accuracy: 0.8676\n",
      "Epoch 23/100\n",
      "1022/1022 [==============================] - 2s 2ms/step - loss: 0.1809 - accuracy: 0.9237 - val_loss: 0.3221 - val_accuracy: 0.8584\n",
      "Epoch 24/100\n",
      "1022/1022 [==============================] - 2s 2ms/step - loss: 0.1823 - accuracy: 0.9247 - val_loss: 0.3010 - val_accuracy: 0.8676\n",
      "Epoch 25/100\n",
      "1022/1022 [==============================] - 3s 3ms/step - loss: 0.1777 - accuracy: 0.9227 - val_loss: 0.2983 - val_accuracy: 0.8721\n",
      "Epoch 26/100\n",
      "1022/1022 [==============================] - 2s 2ms/step - loss: 0.1867 - accuracy: 0.9325 - val_loss: 0.3008 - val_accuracy: 0.8676\n",
      "Epoch 27/100\n",
      "1022/1022 [==============================] - 2s 2ms/step - loss: 0.1723 - accuracy: 0.9266 - val_loss: 0.3668 - val_accuracy: 0.8539\n",
      "Epoch 28/100\n",
      "1022/1022 [==============================] - 2s 2ms/step - loss: 0.1905 - accuracy: 0.9178 - val_loss: 0.3133 - val_accuracy: 0.8767\n",
      "Epoch 29/100\n",
      "1022/1022 [==============================] - 2s 2ms/step - loss: 0.1870 - accuracy: 0.9286 - val_loss: 0.3168 - val_accuracy: 0.8584\n",
      "Epoch 30/100\n",
      "1022/1022 [==============================] - 2s 2ms/step - loss: 0.1874 - accuracy: 0.9178 - val_loss: 0.2790 - val_accuracy: 0.8630\n",
      "Epoch 31/100\n",
      "1022/1022 [==============================] - 2s 2ms/step - loss: 0.1819 - accuracy: 0.9286 - val_loss: 0.3077 - val_accuracy: 0.8584\n",
      "Epoch 32/100\n",
      "1022/1022 [==============================] - 2s 2ms/step - loss: 0.1792 - accuracy: 0.9217 - val_loss: 0.3246 - val_accuracy: 0.8630\n",
      "Epoch 33/100\n",
      "1022/1022 [==============================] - 2s 2ms/step - loss: 0.1720 - accuracy: 0.9305 - val_loss: 0.3303 - val_accuracy: 0.8813\n",
      "Epoch 34/100\n",
      "1022/1022 [==============================] - 2s 2ms/step - loss: 0.1587 - accuracy: 0.9354 - val_loss: 0.2948 - val_accuracy: 0.8767\n",
      "Epoch 35/100\n",
      "1022/1022 [==============================] - 2s 2ms/step - loss: 0.1651 - accuracy: 0.9315 - val_loss: 0.2919 - val_accuracy: 0.8539\n",
      "Epoch 36/100\n",
      "1022/1022 [==============================] - 2s 2ms/step - loss: 0.2203 - accuracy: 0.9070 - val_loss: 0.3518 - val_accuracy: 0.8265\n",
      "Epoch 37/100\n",
      "1022/1022 [==============================] - 2s 2ms/step - loss: 0.1878 - accuracy: 0.9207 - val_loss: 0.3048 - val_accuracy: 0.8767\n",
      "Epoch 38/100\n",
      "1022/1022 [==============================] - 2s 2ms/step - loss: 0.1653 - accuracy: 0.9266 - val_loss: 0.2782 - val_accuracy: 0.8767\n",
      "Epoch 39/100\n",
      "1022/1022 [==============================] - 2s 2ms/step - loss: 0.1779 - accuracy: 0.9276 - val_loss: 0.3755 - val_accuracy: 0.8584\n",
      "Epoch 40/100\n",
      "1022/1022 [==============================] - 2s 2ms/step - loss: 0.1901 - accuracy: 0.9207 - val_loss: 0.2759 - val_accuracy: 0.8858\n",
      "Epoch 41/100\n",
      "1022/1022 [==============================] - 2s 2ms/step - loss: 0.1624 - accuracy: 0.9374 - val_loss: 0.2920 - val_accuracy: 0.8721\n",
      "Epoch 42/100\n",
      "1022/1022 [==============================] - 2s 2ms/step - loss: 0.1606 - accuracy: 0.9354 - val_loss: 0.4106 - val_accuracy: 0.8630\n",
      "Epoch 43/100\n",
      "1022/1022 [==============================] - 2s 2ms/step - loss: 0.1632 - accuracy: 0.9295 - val_loss: 0.3174 - val_accuracy: 0.8630\n",
      "Epoch 44/100\n",
      "1022/1022 [==============================] - 2s 2ms/step - loss: 0.1645 - accuracy: 0.9325 - val_loss: 0.3143 - val_accuracy: 0.8721\n",
      "Epoch 45/100\n",
      "1022/1022 [==============================] - 2s 2ms/step - loss: 0.1796 - accuracy: 0.9217 - val_loss: 0.3130 - val_accuracy: 0.8630\n",
      "Epoch 46/100\n",
      "1022/1022 [==============================] - 2s 2ms/step - loss: 0.1640 - accuracy: 0.9305 - val_loss: 0.3217 - val_accuracy: 0.8676\n",
      "Epoch 47/100\n",
      "1022/1022 [==============================] - 2s 2ms/step - loss: 0.1564 - accuracy: 0.9374 - val_loss: 0.3296 - val_accuracy: 0.8630\n",
      "Epoch 48/100\n",
      "1022/1022 [==============================] - 2s 2ms/step - loss: 0.1636 - accuracy: 0.9266 - val_loss: 0.3278 - val_accuracy: 0.8676\n",
      "Epoch 49/100\n",
      "1022/1022 [==============================] - 2s 2ms/step - loss: 0.1669 - accuracy: 0.9256 - val_loss: 0.3096 - val_accuracy: 0.8539\n",
      "Epoch 50/100\n",
      "1022/1022 [==============================] - 2s 2ms/step - loss: 0.1807 - accuracy: 0.9286 - val_loss: 0.3101 - val_accuracy: 0.8676\n",
      "Epoch 51/100\n",
      "1022/1022 [==============================] - 2s 2ms/step - loss: 0.1650 - accuracy: 0.9335 - val_loss: 0.3119 - val_accuracy: 0.8630\n",
      "Epoch 52/100\n",
      "1022/1022 [==============================] - 2s 2ms/step - loss: 0.1541 - accuracy: 0.9325 - val_loss: 0.3120 - val_accuracy: 0.8721\n",
      "Epoch 53/100\n",
      "1022/1022 [==============================] - 2s 2ms/step - loss: 0.1502 - accuracy: 0.9374 - val_loss: 0.3377 - val_accuracy: 0.8767\n",
      "Epoch 54/100\n",
      "1022/1022 [==============================] - 2s 2ms/step - loss: 0.1544 - accuracy: 0.9305 - val_loss: 0.3366 - val_accuracy: 0.8676\n",
      "Epoch 55/100\n",
      "1022/1022 [==============================] - 2s 2ms/step - loss: 0.1548 - accuracy: 0.9364 - val_loss: 0.4029 - val_accuracy: 0.8584\n",
      "Epoch 56/100\n",
      "1022/1022 [==============================] - 2s 2ms/step - loss: 0.1376 - accuracy: 0.9432 - val_loss: 0.4126 - val_accuracy: 0.8676\n"
     ]
    },
    {
     "name": "stdout",
     "output_type": "stream",
     "text": [
      "Epoch 57/100\n",
      "1022/1022 [==============================] - 2s 2ms/step - loss: 0.1563 - accuracy: 0.9364 - val_loss: 0.3768 - val_accuracy: 0.8539\n",
      "Epoch 58/100\n",
      "1022/1022 [==============================] - 2s 2ms/step - loss: 0.1584 - accuracy: 0.9325 - val_loss: 0.4039 - val_accuracy: 0.8767\n",
      "Epoch 59/100\n",
      "1022/1022 [==============================] - 2s 2ms/step - loss: 0.1476 - accuracy: 0.9384 - val_loss: 0.4092 - val_accuracy: 0.8630\n",
      "Epoch 60/100\n",
      "1022/1022 [==============================] - 2s 2ms/step - loss: 0.1361 - accuracy: 0.9393 - val_loss: 0.3542 - val_accuracy: 0.8676\n",
      "Epoch 61/100\n",
      "1022/1022 [==============================] - 2s 2ms/step - loss: 0.1445 - accuracy: 0.9432 - val_loss: 0.3055 - val_accuracy: 0.8584\n",
      "Epoch 62/100\n",
      "1022/1022 [==============================] - 2s 2ms/step - loss: 0.1425 - accuracy: 0.9384 - val_loss: 0.4766 - val_accuracy: 0.8539\n",
      "Epoch 63/100\n",
      "1022/1022 [==============================] - 2s 2ms/step - loss: 0.1550 - accuracy: 0.9325 - val_loss: 0.3739 - val_accuracy: 0.8721\n",
      "Epoch 64/100\n",
      "1022/1022 [==============================] - 2s 2ms/step - loss: 0.1357 - accuracy: 0.9403 - val_loss: 0.3981 - val_accuracy: 0.8584\n",
      "Epoch 65/100\n",
      "1022/1022 [==============================] - 2s 2ms/step - loss: 0.1292 - accuracy: 0.9393 - val_loss: 0.4178 - val_accuracy: 0.8493\n",
      "Epoch 66/100\n",
      "1022/1022 [==============================] - 2s 2ms/step - loss: 0.1374 - accuracy: 0.9442 - val_loss: 0.3995 - val_accuracy: 0.8630\n",
      "Epoch 67/100\n",
      "1022/1022 [==============================] - 2s 2ms/step - loss: 0.1189 - accuracy: 0.9511 - val_loss: 0.4751 - val_accuracy: 0.8904\n",
      "Epoch 68/100\n",
      "1022/1022 [==============================] - 2s 2ms/step - loss: 0.1359 - accuracy: 0.9491 - val_loss: 0.3938 - val_accuracy: 0.8813\n",
      "Epoch 69/100\n",
      "1022/1022 [==============================] - 2s 2ms/step - loss: 0.1272 - accuracy: 0.9442 - val_loss: 0.4850 - val_accuracy: 0.8493\n",
      "Epoch 70/100\n",
      "1022/1022 [==============================] - 2s 2ms/step - loss: 0.1592 - accuracy: 0.9276 - val_loss: 0.3758 - val_accuracy: 0.8447\n",
      "Epoch 71/100\n",
      "1022/1022 [==============================] - 2s 2ms/step - loss: 0.1447 - accuracy: 0.9384 - val_loss: 0.4778 - val_accuracy: 0.8630\n",
      "Epoch 72/100\n",
      "1022/1022 [==============================] - 2s 2ms/step - loss: 0.1215 - accuracy: 0.9569 - val_loss: 0.4238 - val_accuracy: 0.8676\n",
      "Epoch 73/100\n",
      "1022/1022 [==============================] - 2s 2ms/step - loss: 0.1683 - accuracy: 0.9256 - val_loss: 0.3588 - val_accuracy: 0.8767\n",
      "Epoch 74/100\n",
      "1022/1022 [==============================] - 2s 2ms/step - loss: 0.1419 - accuracy: 0.9462 - val_loss: 0.3838 - val_accuracy: 0.8539\n",
      "Epoch 75/100\n",
      "1022/1022 [==============================] - 2s 2ms/step - loss: 0.1364 - accuracy: 0.9511 - val_loss: 0.4532 - val_accuracy: 0.8493\n",
      "Epoch 76/100\n",
      "1022/1022 [==============================] - 2s 2ms/step - loss: 0.1160 - accuracy: 0.9521 - val_loss: 0.3973 - val_accuracy: 0.8539\n",
      "Epoch 77/100\n",
      "1022/1022 [==============================] - 2s 2ms/step - loss: 0.1131 - accuracy: 0.9550 - val_loss: 0.5723 - val_accuracy: 0.8493\n",
      "Epoch 78/100\n",
      "1022/1022 [==============================] - 2s 2ms/step - loss: 0.1300 - accuracy: 0.9481 - val_loss: 0.4559 - val_accuracy: 0.8767\n",
      "Epoch 79/100\n",
      "1022/1022 [==============================] - 3s 3ms/step - loss: 0.1521 - accuracy: 0.9354 - val_loss: 0.4385 - val_accuracy: 0.8265\n",
      "Epoch 80/100\n",
      "1022/1022 [==============================] - 2s 2ms/step - loss: 0.1522 - accuracy: 0.9335 - val_loss: 0.3638 - val_accuracy: 0.8767\n",
      "Epoch 81/100\n",
      "1022/1022 [==============================] - 2s 2ms/step - loss: 0.1167 - accuracy: 0.9579 - val_loss: 0.4597 - val_accuracy: 0.8813\n",
      "Epoch 82/100\n",
      "1022/1022 [==============================] - 2s 2ms/step - loss: 0.1010 - accuracy: 0.9589 - val_loss: 0.5298 - val_accuracy: 0.8539\n",
      "Epoch 83/100\n",
      "1022/1022 [==============================] - 2s 2ms/step - loss: 0.1070 - accuracy: 0.9550 - val_loss: 0.5640 - val_accuracy: 0.8630\n",
      "Epoch 84/100\n",
      "1022/1022 [==============================] - 2s 2ms/step - loss: 0.0888 - accuracy: 0.9638 - val_loss: 0.7382 - val_accuracy: 0.8721\n",
      "Epoch 85/100\n",
      "1022/1022 [==============================] - 2s 2ms/step - loss: 0.1050 - accuracy: 0.9569 - val_loss: 0.5010 - val_accuracy: 0.8630\n",
      "Epoch 86/100\n",
      "1022/1022 [==============================] - 2s 2ms/step - loss: 0.0953 - accuracy: 0.9589 - val_loss: 0.6271 - val_accuracy: 0.8721\n",
      "Epoch 87/100\n",
      "1022/1022 [==============================] - 2s 2ms/step - loss: 0.0898 - accuracy: 0.9609 - val_loss: 0.6244 - val_accuracy: 0.8767\n",
      "Epoch 88/100\n",
      "1022/1022 [==============================] - 2s 2ms/step - loss: 0.0964 - accuracy: 0.9648 - val_loss: 0.6158 - val_accuracy: 0.8676\n",
      "Epoch 89/100\n",
      "1022/1022 [==============================] - ETA: 0s - loss: 0.0899 - accuracy: 0.96 - 2s 2ms/step - loss: 0.0926 - accuracy: 0.9618 - val_loss: 0.4988 - val_accuracy: 0.8447\n",
      "Epoch 90/100\n",
      "1022/1022 [==============================] - 2s 2ms/step - loss: 0.1469 - accuracy: 0.9432 - val_loss: 0.5617 - val_accuracy: 0.8721\n",
      "Epoch 91/100\n",
      "1022/1022 [==============================] - 2s 2ms/step - loss: 0.1648 - accuracy: 0.9354 - val_loss: 0.4145 - val_accuracy: 0.8858\n",
      "Epoch 92/100\n",
      "1022/1022 [==============================] - 2s 2ms/step - loss: 0.1095 - accuracy: 0.9540 - val_loss: 0.5106 - val_accuracy: 0.8721\n",
      "Epoch 93/100\n",
      "1022/1022 [==============================] - 2s 2ms/step - loss: 0.1017 - accuracy: 0.9628 - val_loss: 0.6297 - val_accuracy: 0.8721\n",
      "Epoch 94/100\n",
      "1022/1022 [==============================] - 2s 2ms/step - loss: 0.0989 - accuracy: 0.9628 - val_loss: 0.6393 - val_accuracy: 0.8858\n",
      "Epoch 95/100\n",
      "1022/1022 [==============================] - 2s 2ms/step - loss: 0.1340 - accuracy: 0.9374 - val_loss: 0.5847 - val_accuracy: 0.8721\n",
      "Epoch 96/100\n",
      "1022/1022 [==============================] - 2s 2ms/step - loss: 0.0872 - accuracy: 0.9697 - val_loss: 0.5095 - val_accuracy: 0.8904\n",
      "Epoch 97/100\n",
      "1022/1022 [==============================] - 2s 2ms/step - loss: 0.1077 - accuracy: 0.9530 - val_loss: 0.5317 - val_accuracy: 0.8584\n",
      "Epoch 98/100\n",
      "1022/1022 [==============================] - 2s 2ms/step - loss: 0.0942 - accuracy: 0.9550 - val_loss: 0.7333 - val_accuracy: 0.8676\n",
      "Epoch 99/100\n",
      "1022/1022 [==============================] - 2s 2ms/step - loss: 0.1224 - accuracy: 0.9579 - val_loss: 0.5567 - val_accuracy: 0.8447\n",
      "Epoch 100/100\n",
      "1022/1022 [==============================] - 2s 2ms/step - loss: 0.1119 - accuracy: 0.9550 - val_loss: 0.5056 - val_accuracy: 0.8493\n"
     ]
    }
   ],
   "source": [
    "# Model 2\n",
    "model_2 = Sequential([\n",
    "    Dense(1000, activation='relu', input_shape=(10,)),\n",
    "    Dense(1000, activation='relu'),\n",
    "    Dense(1000, activation='relu'),\n",
    "    Dense(1000, activation='relu'),\n",
    "    Dense(1, activation='sigmoid'),\n",
    "])\n",
    "model_2.compile(optimizer='adam',\n",
    "              loss='binary_crossentropy',\n",
    "              metrics=['accuracy'])\n",
    "\n",
    "hist_2 = model_2.fit(X_train, Y_train,\n",
    "          batch_size=32, epochs=100,\n",
    "          validation_data=(X_val, Y_val))"
   ]
  },
  {
   "cell_type": "markdown",
   "metadata": {},
   "source": [
    "Same visualization to see what overfitting looks like in terms of the loss and accuracy"
   ]
  },
  {
   "cell_type": "code",
   "execution_count": 34,
   "metadata": {},
   "outputs": [
    {
     "data": {
      "image/png": "[encoded data removed]",
      "text/plain": [
       "<Figure size 432x288 with 1 Axes>"
      ]
     },
     "metadata": {
      "needs_background": "light"
     },
     "output_type": "display_data"
    }
   ],
   "source": [
    "plt.plot(hist_2.history['loss'])\n",
    "plt.plot(hist_2.history['val_loss'])\n",
    "plt.title('Model loss')\n",
    "plt.ylabel('Loss')\n",
    "plt.xlabel('Epoch')\n",
    "plt.legend(['Train', 'Val'], loc='upper right')\n",
    "plt.show()"
   ]
  },
  {
   "cell_type": "code",
   "execution_count": 35,
   "metadata": {},
   "outputs": [
    {
     "data": {
      "image/png": "[encoded data removed]",
      "text/plain": [
       "<Figure size 432x288 with 1 Axes>"
      ]
     },
     "metadata": {
      "needs_background": "light"
     },
     "output_type": "display_data"
    }
   ],
   "source": [
    "plt.plot(hist_2.history['accuracy'])\n",
    "plt.plot(hist_2.history['val_accuracy'])\n",
    "plt.title('Model accuracy')\n",
    "plt.ylabel('Accuracy')\n",
    "plt.xlabel('Epoch')\n",
    "plt.legend(['Train', 'Val'], loc='lower right')\n",
    "plt.show()"
   ]
  },
  {
   "cell_type": "markdown",
   "metadata": {},
   "source": [
    "To address the overfitting in Model 2, we'll incorporate L2 regularization and dropout in our 3rd model here (Model 3)."
   ]
  },
  {
   "cell_type": "code",
   "execution_count": 36,
   "metadata": {},
   "outputs": [],
   "source": [
    "# Model 3\n",
    "model_3 = Sequential([\n",
    "    Dense(1000, activation='relu', kernel_regularizer=regularizers.l2(0.01), \n",
    "          input_shape=(10,)), Dropout(0.3),\n",
    "    Dense(1000, activation='relu', kernel_regularizer=regularizers.l2(0.01)),\n",
    "    Dropout(0.3),\n",
    "    Dense(1000, activation='relu', kernel_regularizer=regularizers.l2(0.01)),\n",
    "    Dropout(0.3),\n",
    "    Dense(1000, activation='relu', kernel_regularizer=regularizers.l2(0.01)),\n",
    "    Dropout(0.3),\n",
    "    Dense(1, activation='sigmoid', kernel_regularizer=regularizers.l2(0.01)),\n",
    "])"
   ]
  },
  {
   "cell_type": "code",
   "execution_count": 37,
   "metadata": {},
   "outputs": [
    {
     "name": "stdout",
     "output_type": "stream",
     "text": [
      "Train on 1022 samples, validate on 219 samples\n",
      "Epoch 1/100\n",
      "1022/1022 [==============================] - 3s 3ms/step - loss: 14.2275 - accuracy: 0.6370 - val_loss: 3.9082 - val_accuracy: 0.8356\n",
      "Epoch 2/100\n",
      "1022/1022 [==============================] - 2s 2ms/step - loss: 1.6520 - accuracy: 0.8523 - val_loss: 0.7309 - val_accuracy: 0.8311\n",
      "Epoch 3/100\n",
      "1022/1022 [==============================] - 2s 2ms/step - loss: 0.5620 - accuracy: 0.8689 - val_loss: 0.5398 - val_accuracy: 0.8402\n",
      "Epoch 4/100\n",
      "1022/1022 [==============================] - 2s 2ms/step - loss: 0.5014 - accuracy: 0.8826 - val_loss: 0.5601 - val_accuracy: 0.8356\n",
      "Epoch 5/100\n",
      "1022/1022 [==============================] - 2s 2ms/step - loss: 0.4824 - accuracy: 0.8845 - val_loss: 0.5021 - val_accuracy: 0.8265\n",
      "Epoch 6/100\n",
      "1022/1022 [==============================] - 2s 2ms/step - loss: 0.5070 - accuracy: 0.8659 - val_loss: 0.5160 - val_accuracy: 0.8219\n",
      "Epoch 7/100\n",
      "1022/1022 [==============================] - 3s 2ms/step - loss: 0.4773 - accuracy: 0.8777 - val_loss: 0.5083 - val_accuracy: 0.8402\n",
      "Epoch 8/100\n",
      "1022/1022 [==============================] - 3s 3ms/step - loss: 0.4776 - accuracy: 0.8767 - val_loss: 0.5135 - val_accuracy: 0.8447\n",
      "Epoch 9/100\n",
      "1022/1022 [==============================] - 2s 2ms/step - loss: 0.4635 - accuracy: 0.8787 - val_loss: 0.5406 - val_accuracy: 0.8402\n",
      "Epoch 10/100\n",
      "1022/1022 [==============================] - 2s 2ms/step - loss: 0.4726 - accuracy: 0.8767 - val_loss: 0.5013 - val_accuracy: 0.8265\n",
      "Epoch 11/100\n",
      "1022/1022 [==============================] - 2s 2ms/step - loss: 0.4449 - accuracy: 0.9090 - val_loss: 0.4996 - val_accuracy: 0.8447\n",
      "Epoch 12/100\n",
      "1022/1022 [==============================] - 2s 2ms/step - loss: 0.4318 - accuracy: 0.8894 - val_loss: 0.4904 - val_accuracy: 0.8356\n",
      "Epoch 13/100\n",
      "1022/1022 [==============================] - 2s 2ms/step - loss: 0.4628 - accuracy: 0.8748 - val_loss: 0.4905 - val_accuracy: 0.8356\n",
      "Epoch 14/100\n",
      "1022/1022 [==============================] - 3s 2ms/step - loss: 0.4572 - accuracy: 0.8875 - val_loss: 0.4938 - val_accuracy: 0.8265\n",
      "Epoch 15/100\n",
      "1022/1022 [==============================] - 3s 3ms/step - loss: 0.4533 - accuracy: 0.8865 - val_loss: 0.4881 - val_accuracy: 0.8356\n",
      "Epoch 16/100\n",
      "1022/1022 [==============================] - 2s 2ms/step - loss: 0.4368 - accuracy: 0.8904 - val_loss: 0.5595 - val_accuracy: 0.8356\n",
      "Epoch 17/100\n",
      "1022/1022 [==============================] - 2s 2ms/step - loss: 0.4562 - accuracy: 0.8836 - val_loss: 0.4952 - val_accuracy: 0.8493\n",
      "Epoch 18/100\n",
      "1022/1022 [==============================] - 2s 2ms/step - loss: 0.4627 - accuracy: 0.8796 - val_loss: 0.5224 - val_accuracy: 0.8402\n",
      "Epoch 19/100\n",
      "1022/1022 [==============================] - 2s 2ms/step - loss: 0.4402 - accuracy: 0.8875 - val_loss: 0.5771 - val_accuracy: 0.8402\n",
      "Epoch 20/100\n",
      "1022/1022 [==============================] - 2s 2ms/step - loss: 0.4283 - accuracy: 0.8904 - val_loss: 0.5298 - val_accuracy: 0.8356\n",
      "Epoch 21/100\n",
      "1022/1022 [==============================] - 3s 3ms/step - loss: 0.4219 - accuracy: 0.8924 - val_loss: 0.5249 - val_accuracy: 0.8356\n",
      "Epoch 22/100\n",
      "1022/1022 [==============================] - 4s 4ms/step - loss: 0.4460 - accuracy: 0.8943 - val_loss: 0.4814 - val_accuracy: 0.8356\n",
      "Epoch 23/100\n",
      "1022/1022 [==============================] - 3s 3ms/step - loss: 0.4387 - accuracy: 0.8973 - val_loss: 0.4912 - val_accuracy: 0.8356\n",
      "Epoch 24/100\n",
      "1022/1022 [==============================] - 3s 2ms/step - loss: 0.4241 - accuracy: 0.9002 - val_loss: 0.5007 - val_accuracy: 0.8402\n",
      "Epoch 25/100\n",
      "1022/1022 [==============================] - 3s 3ms/step - loss: 0.4360 - accuracy: 0.8865 - val_loss: 0.5004 - val_accuracy: 0.8356\n",
      "Epoch 26/100\n",
      "1022/1022 [==============================] - 3s 3ms/step - loss: 0.4262 - accuracy: 0.8914 - val_loss: 0.5017 - val_accuracy: 0.8447\n",
      "Epoch 27/100\n",
      "1022/1022 [==============================] - 3s 3ms/step - loss: 0.4258 - accuracy: 0.8924 - val_loss: 0.4965 - val_accuracy: 0.8539\n",
      "Epoch 28/100\n",
      "1022/1022 [==============================] - 2s 2ms/step - loss: 0.4346 - accuracy: 0.8894 - val_loss: 0.4896 - val_accuracy: 0.8356\n",
      "Epoch 29/100\n",
      "1022/1022 [==============================] - 2s 2ms/step - loss: 0.4486 - accuracy: 0.8738 - val_loss: 0.5036 - val_accuracy: 0.8493\n",
      "Epoch 30/100\n",
      "1022/1022 [==============================] - 2s 2ms/step - loss: 0.4453 - accuracy: 0.8914 - val_loss: 0.5197 - val_accuracy: 0.8356\n",
      "Epoch 31/100\n",
      "1022/1022 [==============================] - 2s 2ms/step - loss: 0.4250 - accuracy: 0.8924 - val_loss: 0.4745 - val_accuracy: 0.8402\n",
      "Epoch 32/100\n",
      "1022/1022 [==============================] - 3s 3ms/step - loss: 0.4389 - accuracy: 0.8894 - val_loss: 0.4847 - val_accuracy: 0.8356\n",
      "Epoch 33/100\n",
      "1022/1022 [==============================] - 4s 4ms/step - loss: 0.4306 - accuracy: 0.8885 - val_loss: 0.5150 - val_accuracy: 0.8447\n",
      "Epoch 34/100\n",
      "1022/1022 [==============================] - 3s 3ms/step - loss: 0.4221 - accuracy: 0.8914 - val_loss: 0.4880 - val_accuracy: 0.8356\n",
      "Epoch 35/100\n",
      "1022/1022 [==============================] - 3s 2ms/step - loss: 0.4285 - accuracy: 0.8894 - val_loss: 0.5187 - val_accuracy: 0.8402\n",
      "Epoch 36/100\n",
      "1022/1022 [==============================] - 2s 2ms/step - loss: 0.4370 - accuracy: 0.8836 - val_loss: 0.4821 - val_accuracy: 0.8356\n",
      "Epoch 37/100\n",
      "1022/1022 [==============================] - 2s 2ms/step - loss: 0.4214 - accuracy: 0.8963 - val_loss: 0.5221 - val_accuracy: 0.8356\n",
      "Epoch 38/100\n",
      "1022/1022 [==============================] - 3s 3ms/step - loss: 0.4289 - accuracy: 0.8914 - val_loss: 0.4763 - val_accuracy: 0.8356\n",
      "Epoch 39/100\n",
      "1022/1022 [==============================] - 3s 3ms/step - loss: 0.4179 - accuracy: 0.8963 - val_loss: 0.4891 - val_accuracy: 0.8402\n",
      "Epoch 40/100\n",
      "1022/1022 [==============================] - 3s 3ms/step - loss: 0.4182 - accuracy: 0.8973 - val_loss: 0.4718 - val_accuracy: 0.8356\n",
      "Epoch 41/100\n",
      "1022/1022 [==============================] - 2s 2ms/step - loss: 0.4220 - accuracy: 0.8963 - val_loss: 0.4832 - val_accuracy: 0.8447\n",
      "Epoch 42/100\n",
      "1022/1022 [==============================] - 2s 2ms/step - loss: 0.4291 - accuracy: 0.8875 - val_loss: 0.4833 - val_accuracy: 0.8447\n",
      "Epoch 43/100\n",
      "1022/1022 [==============================] - 3s 3ms/step - loss: 0.4448 - accuracy: 0.8836 - val_loss: 0.5572 - val_accuracy: 0.8402\n",
      "Epoch 44/100\n",
      "1022/1022 [==============================] - 3s 3ms/step - loss: 0.4353 - accuracy: 0.8816 - val_loss: 0.5140 - val_accuracy: 0.8402\n",
      "Epoch 45/100\n",
      "1022/1022 [==============================] - 3s 3ms/step - loss: 0.4217 - accuracy: 0.9031 - val_loss: 0.5123 - val_accuracy: 0.8402\n",
      "Epoch 46/100\n",
      "1022/1022 [==============================] - 3s 2ms/step - loss: 0.4299 - accuracy: 0.8943 - val_loss: 0.5090 - val_accuracy: 0.8402\n",
      "Epoch 47/100\n",
      "1022/1022 [==============================] - 2s 2ms/step - loss: 0.4107 - accuracy: 0.9002 - val_loss: 0.4932 - val_accuracy: 0.8356\n",
      "Epoch 48/100\n",
      "1022/1022 [==============================] - 3s 3ms/step - loss: 0.4263 - accuracy: 0.8904 - val_loss: 0.4872 - val_accuracy: 0.8447\n",
      "Epoch 49/100\n",
      "1022/1022 [==============================] - 2s 2ms/step - loss: 0.4385 - accuracy: 0.8767 - val_loss: 0.5008 - val_accuracy: 0.8447\n",
      "Epoch 50/100\n",
      "1022/1022 [==============================] - 2s 2ms/step - loss: 0.4366 - accuracy: 0.8845 - val_loss: 0.4962 - val_accuracy: 0.8356\n",
      "Epoch 51/100\n",
      "1022/1022 [==============================] - 2s 2ms/step - loss: 0.4258 - accuracy: 0.8855 - val_loss: 0.4967 - val_accuracy: 0.8447\n",
      "Epoch 52/100\n",
      "1022/1022 [==============================] - 3s 3ms/step - loss: 0.4251 - accuracy: 0.8963 - val_loss: 0.4886 - val_accuracy: 0.8402\n",
      "Epoch 53/100\n",
      "1022/1022 [==============================] - 3s 3ms/step - loss: 0.4291 - accuracy: 0.8845 - val_loss: 0.4689 - val_accuracy: 0.8402\n",
      "Epoch 54/100\n",
      "1022/1022 [==============================] - 3s 2ms/step - loss: 0.4285 - accuracy: 0.8885 - val_loss: 0.4672 - val_accuracy: 0.8356\n",
      "Epoch 55/100\n",
      "1022/1022 [==============================] - 3s 3ms/step - loss: 0.4431 - accuracy: 0.8845 - val_loss: 0.5012 - val_accuracy: 0.8402\n",
      "Epoch 56/100\n",
      "1022/1022 [==============================] - 3s 3ms/step - loss: 0.4223 - accuracy: 0.9012 - val_loss: 0.4699 - val_accuracy: 0.8402\n"
     ]
    },
    {
     "name": "stdout",
     "output_type": "stream",
     "text": [
      "Epoch 57/100\n",
      "1022/1022 [==============================] - 2s 2ms/step - loss: 0.4191 - accuracy: 0.8933 - val_loss: 0.4802 - val_accuracy: 0.8402\n",
      "Epoch 58/100\n",
      "1022/1022 [==============================] - 3s 3ms/step - loss: 0.4235 - accuracy: 0.8982 - val_loss: 0.4807 - val_accuracy: 0.8402\n",
      "Epoch 59/100\n",
      "1022/1022 [==============================] - 3s 3ms/step - loss: 0.4152 - accuracy: 0.8933 - val_loss: 0.4815 - val_accuracy: 0.8402\n",
      "Epoch 60/100\n",
      "1022/1022 [==============================] - 3s 3ms/step - loss: 0.4316 - accuracy: 0.8894 - val_loss: 0.5061 - val_accuracy: 0.8447\n",
      "Epoch 61/100\n",
      "1022/1022 [==============================] - 3s 3ms/step - loss: 0.4158 - accuracy: 0.8973 - val_loss: 0.4870 - val_accuracy: 0.8493\n",
      "Epoch 62/100\n",
      "1022/1022 [==============================] - 4s 4ms/step - loss: 0.4284 - accuracy: 0.8953 - val_loss: 0.4658 - val_accuracy: 0.8356\n",
      "Epoch 63/100\n",
      "1022/1022 [==============================] - 3s 3ms/step - loss: 0.4025 - accuracy: 0.9080 - val_loss: 0.5190 - val_accuracy: 0.8356\n",
      "Epoch 64/100\n",
      "1022/1022 [==============================] - 3s 3ms/step - loss: 0.4282 - accuracy: 0.8982 - val_loss: 0.5192 - val_accuracy: 0.8402\n",
      "Epoch 65/100\n",
      "1022/1022 [==============================] - 2s 2ms/step - loss: 0.4338 - accuracy: 0.8885 - val_loss: 0.4925 - val_accuracy: 0.8447\n",
      "Epoch 66/100\n",
      "1022/1022 [==============================] - 2s 2ms/step - loss: 0.4166 - accuracy: 0.8982 - val_loss: 0.4876 - val_accuracy: 0.8539\n",
      "Epoch 67/100\n",
      "1022/1022 [==============================] - 2s 2ms/step - loss: 0.4117 - accuracy: 0.8963 - val_loss: 0.4752 - val_accuracy: 0.8402\n",
      "Epoch 68/100\n",
      "1022/1022 [==============================] - 3s 3ms/step - loss: 0.4242 - accuracy: 0.8904 - val_loss: 0.4832 - val_accuracy: 0.8447\n",
      "Epoch 69/100\n",
      "1022/1022 [==============================] - 3s 3ms/step - loss: 0.4301 - accuracy: 0.8796 - val_loss: 0.4822 - val_accuracy: 0.8447\n",
      "Epoch 70/100\n",
      "1022/1022 [==============================] - 2s 2ms/step - loss: 0.4255 - accuracy: 0.8924 - val_loss: 0.4672 - val_accuracy: 0.8356\n",
      "Epoch 71/100\n",
      "1022/1022 [==============================] - 2s 2ms/step - loss: 0.4477 - accuracy: 0.8806 - val_loss: 0.5288 - val_accuracy: 0.8402\n",
      "Epoch 72/100\n",
      "1022/1022 [==============================] - 3s 3ms/step - loss: 0.4239 - accuracy: 0.8904 - val_loss: 0.4928 - val_accuracy: 0.8402\n",
      "Epoch 73/100\n",
      "1022/1022 [==============================] - 2s 2ms/step - loss: 0.4104 - accuracy: 0.9012 - val_loss: 0.4848 - val_accuracy: 0.8356\n",
      "Epoch 74/100\n",
      "1022/1022 [==============================] - 3s 3ms/step - loss: 0.4209 - accuracy: 0.8982 - val_loss: 0.5794 - val_accuracy: 0.8447\n",
      "Epoch 75/100\n",
      "1022/1022 [==============================] - 2s 2ms/step - loss: 0.4257 - accuracy: 0.8924 - val_loss: 0.5105 - val_accuracy: 0.8447\n",
      "Epoch 76/100\n",
      "1022/1022 [==============================] - 2s 2ms/step - loss: 0.4140 - accuracy: 0.8953 - val_loss: 0.4764 - val_accuracy: 0.8356\n",
      "Epoch 77/100\n",
      "1022/1022 [==============================] - 2s 2ms/step - loss: 0.4201 - accuracy: 0.8904 - val_loss: 0.4819 - val_accuracy: 0.8402\n",
      "Epoch 78/100\n",
      "1022/1022 [==============================] - 2s 2ms/step - loss: 0.4290 - accuracy: 0.8865 - val_loss: 0.4617 - val_accuracy: 0.8402\n",
      "Epoch 79/100\n",
      "1022/1022 [==============================] - 2s 2ms/step - loss: 0.4275 - accuracy: 0.8865 - val_loss: 0.5386 - val_accuracy: 0.8356\n",
      "Epoch 80/100\n",
      "1022/1022 [==============================] - 2s 2ms/step - loss: 0.4346 - accuracy: 0.8875 - val_loss: 0.4782 - val_accuracy: 0.8447\n",
      "Epoch 81/100\n",
      "1022/1022 [==============================] - 2s 2ms/step - loss: 0.4252 - accuracy: 0.8924 - val_loss: 0.5499 - val_accuracy: 0.8402\n",
      "Epoch 82/100\n",
      "1022/1022 [==============================] - 3s 3ms/step - loss: 0.4260 - accuracy: 0.8904 - val_loss: 0.4797 - val_accuracy: 0.8356\n",
      "Epoch 83/100\n",
      "1022/1022 [==============================] - 3s 3ms/step - loss: 0.4392 - accuracy: 0.8894 - val_loss: 0.5256 - val_accuracy: 0.8128\n",
      "Epoch 84/100\n",
      "1022/1022 [==============================] - 3s 3ms/step - loss: 0.4237 - accuracy: 0.8992 - val_loss: 0.4905 - val_accuracy: 0.8402\n",
      "Epoch 85/100\n",
      "1022/1022 [==============================] - 2s 2ms/step - loss: 0.4252 - accuracy: 0.8885 - val_loss: 0.5058 - val_accuracy: 0.8402\n",
      "Epoch 86/100\n",
      "1022/1022 [==============================] - 2s 2ms/step - loss: 0.4065 - accuracy: 0.9041 - val_loss: 0.4621 - val_accuracy: 0.8356\n",
      "Epoch 87/100\n",
      "1022/1022 [==============================] - 2s 2ms/step - loss: 0.4209 - accuracy: 0.8953 - val_loss: 0.4709 - val_accuracy: 0.8356\n",
      "Epoch 88/100\n",
      "1022/1022 [==============================] - 2s 2ms/step - loss: 0.4214 - accuracy: 0.8933 - val_loss: 0.4724 - val_accuracy: 0.8356\n",
      "Epoch 89/100\n",
      "1022/1022 [==============================] - 2s 2ms/step - loss: 0.4243 - accuracy: 0.8826 - val_loss: 0.4775 - val_accuracy: 0.8356\n",
      "Epoch 90/100\n",
      "1022/1022 [==============================] - 3s 3ms/step - loss: 0.4244 - accuracy: 0.8914 - val_loss: 0.4793 - val_accuracy: 0.8402\n",
      "Epoch 91/100\n",
      "1022/1022 [==============================] - 3s 3ms/step - loss: 0.4174 - accuracy: 0.8973 - val_loss: 0.5321 - val_accuracy: 0.8402\n",
      "Epoch 92/100\n",
      "1022/1022 [==============================] - 3s 3ms/step - loss: 0.4365 - accuracy: 0.8865 - val_loss: 0.5048 - val_accuracy: 0.8493\n",
      "Epoch 93/100\n",
      "1022/1022 [==============================] - 3s 3ms/step - loss: 0.4117 - accuracy: 0.9022 - val_loss: 0.4757 - val_accuracy: 0.8356\n",
      "Epoch 94/100\n",
      "1022/1022 [==============================] - 2s 2ms/step - loss: 0.4063 - accuracy: 0.8973 - val_loss: 0.4788 - val_accuracy: 0.8402\n",
      "Epoch 95/100\n",
      "1022/1022 [==============================] - 2s 2ms/step - loss: 0.4123 - accuracy: 0.8973 - val_loss: 0.4737 - val_accuracy: 0.8356\n",
      "Epoch 96/100\n",
      "1022/1022 [==============================] - 3s 3ms/step - loss: 0.4185 - accuracy: 0.8943 - val_loss: 0.5469 - val_accuracy: 0.8493\n",
      "Epoch 97/100\n",
      "1022/1022 [==============================] - 3s 3ms/step - loss: 0.4279 - accuracy: 0.8894 - val_loss: 0.5843 - val_accuracy: 0.8402\n",
      "Epoch 98/100\n",
      "1022/1022 [==============================] - 3s 3ms/step - loss: 0.4464 - accuracy: 0.8806 - val_loss: 0.5453 - val_accuracy: 0.8356\n",
      "Epoch 99/100\n",
      "1022/1022 [==============================] - 3s 2ms/step - loss: 0.4264 - accuracy: 0.9002 - val_loss: 0.4759 - val_accuracy: 0.8402\n",
      "Epoch 100/100\n",
      "1022/1022 [==============================] - 2s 2ms/step - loss: 0.4160 - accuracy: 0.8982 - val_loss: 0.4977 - val_accuracy: 0.8402\n"
     ]
    }
   ],
   "source": [
    "model_3.compile(optimizer='adam',\n",
    "              loss='binary_crossentropy',\n",
    "              metrics=['accuracy'])\n",
    "\n",
    "hist_3 = model_3.fit(X_train, Y_train,\n",
    "          batch_size=32, epochs=100,\n",
    "          validation_data=(X_val, Y_val))"
   ]
  },
  {
   "cell_type": "markdown",
   "metadata": {},
   "source": [
    "You'll notice that the loss is a lot higher at the start, and that's because we've changed our loss function.\n",
    "To plot such that the window is zoomed in between 0 and 1.2 for the loss, we add an additional line of code (plt.ylim) when plotting"
   ]
  },
  {
   "cell_type": "code",
   "execution_count": 38,
   "metadata": {},
   "outputs": [
    {
     "data": {
      "image/png": "[encoded data removed]",
      "text/plain": [
       "<Figure size 432x288 with 1 Axes>"
      ]
     },
     "metadata": {
      "needs_background": "light"
     },
     "output_type": "display_data"
    }
   ],
   "source": [
    "plt.plot(hist_3.history['loss'])\n",
    "plt.plot(hist_3.history['val_loss'])\n",
    "plt.title('Model loss')\n",
    "plt.ylabel('Loss')\n",
    "plt.xlabel('Epoch')\n",
    "plt.legend(['Train', 'Val'], loc='upper right')\n",
    "plt.ylim(top=1.2, bottom=0)\n",
    "plt.show()"
   ]
  },
  {
   "cell_type": "code",
   "execution_count": 40,
   "metadata": {},
   "outputs": [
    {
     "data": {
      "image/png": "[encoded data removed]",
      "text/plain": [
       "<Figure size 432x288 with 1 Axes>"
      ]
     },
     "metadata": {
      "needs_background": "light"
     },
     "output_type": "display_data"
    }
   ],
   "source": [
    "plt.plot(hist_3.history['accuracy'])\n",
    "plt.plot(hist_3.history['val_accuracy'])\n",
    "plt.title('Model accuracy')\n",
    "plt.ylabel('Accuracy')\n",
    "plt.xlabel('Epoch')\n",
    "plt.legend(['Train', 'Val'], loc='lower right')\n",
    "plt.show()"
   ]
  },
  {
   "cell_type": "markdown",
   "metadata": {},
   "source": [
    "As compared to Model 2, there's less overfitting!"
   ]
  },
  {
   "cell_type": "markdown",
   "metadata": {},
   "source": [
    "## Part 2: Image Recognition"
   ]
  },
  {
   "cell_type": "markdown",
   "metadata": {},
   "source": [
    "**Goal:** Create Convolutional Neural Network to predict what is contained within the image."
   ]
  },
  {
   "cell_type": "markdown",
   "metadata": {},
   "source": [
    "### Data Processing and EDA\n",
    "We will first have to download our dataset, CIFAR-10. The details of the dataset are as follows:\n",
    "- Images to be recognized: Tiny images of 32 * 32 pixels\n",
    "- Labels: 10 possible labels (airplane, automobile, bird, cat, deer, dog, frog, horse, ship, and truck)\n",
    "- Dataset size: 60000 images, split into 50000 for training and 10000 for testing"
   ]
  },
  {
   "cell_type": "code",
   "execution_count": 41,
   "metadata": {},
   "outputs": [
    {
     "name": "stdout",
     "output_type": "stream",
     "text": [
      "Downloading data from https://www.cs.toronto.edu/~kriz/cifar-10-python.tar.gz\n",
      "170500096/170498071 [==============================] - 165s 1us/step\n"
     ]
    }
   ],
   "source": [
    "from keras.datasets import cifar10\n",
    "(x_train, y_train), (x_test, y_test) = cifar10.load_data()"
   ]
  },
  {
   "cell_type": "code",
   "execution_count": 43,
   "metadata": {},
   "outputs": [
    {
     "name": "stdout",
     "output_type": "stream",
     "text": [
      "x_train shape: (50000, 32, 32, 3)\n",
      "y_train shape: (50000, 1)\n"
     ]
    }
   ],
   "source": [
    "print('x_train shape:', x_train.shape)\n",
    "print('y_train shape:', y_train.shape)"
   ]
  },
  {
   "cell_type": "markdown",
   "metadata": {},
   "source": [
    "Take a look at an individual image. If we print out the first image of our training dataset (x_train[0]):"
   ]
  },
  {
   "cell_type": "code",
   "execution_count": 44,
   "metadata": {},
   "outputs": [
    {
     "name": "stdout",
     "output_type": "stream",
     "text": [
      "[[[ 59  62  63]\n",
      "  [ 43  46  45]\n",
      "  [ 50  48  43]\n",
      "  ...\n",
      "  [158 132 108]\n",
      "  [152 125 102]\n",
      "  [148 124 103]]\n",
      "\n",
      " [[ 16  20  20]\n",
      "  [  0   0   0]\n",
      "  [ 18   8   0]\n",
      "  ...\n",
      "  [123  88  55]\n",
      "  [119  83  50]\n",
      "  [122  87  57]]\n",
      "\n",
      " [[ 25  24  21]\n",
      "  [ 16   7   0]\n",
      "  [ 49  27   8]\n",
      "  ...\n",
      "  [118  84  50]\n",
      "  [120  84  50]\n",
      "  [109  73  42]]\n",
      "\n",
      " ...\n",
      "\n",
      " [[208 170  96]\n",
      "  [201 153  34]\n",
      "  [198 161  26]\n",
      "  ...\n",
      "  [160 133  70]\n",
      "  [ 56  31   7]\n",
      "  [ 53  34  20]]\n",
      "\n",
      " [[180 139  96]\n",
      "  [173 123  42]\n",
      "  [186 144  30]\n",
      "  ...\n",
      "  [184 148  94]\n",
      "  [ 97  62  34]\n",
      "  [ 83  53  34]]\n",
      "\n",
      " [[177 144 116]\n",
      "  [168 129  94]\n",
      "  [179 142  87]\n",
      "  ...\n",
      "  [216 184 140]\n",
      "  [151 118  84]\n",
      "  [123  92  72]]]\n"
     ]
    }
   ],
   "source": [
    "print(x_train[0])"
   ]
  },
  {
   "cell_type": "markdown",
   "metadata": {},
   "source": [
    "Check the image as an image rather than a series of pixel value numbers, use a function from matplotlib:"
   ]
  },
  {
   "cell_type": "code",
   "execution_count": 45,
   "metadata": {},
   "outputs": [
    {
     "data": {
      "image/png": "[encoded data removed]",
      "text/plain": [
       "<Figure size 432x288 with 1 Axes>"
      ]
     },
     "metadata": {
      "needs_background": "light"
     },
     "output_type": "display_data"
    }
   ],
   "source": [
    "img = plt.imshow(x_train[0])"
   ]
  },
  {
   "cell_type": "code",
   "execution_count": 46,
   "metadata": {},
   "outputs": [
    {
     "name": "stdout",
     "output_type": "stream",
     "text": [
      "The label is: [6]\n"
     ]
    }
   ],
   "source": [
    "print('The label is:', y_train[0])"
   ]
  },
  {
   "cell_type": "markdown",
   "metadata": {},
   "source": [
    "Explore 1 more image, the 2nd image (with index 1 instead of 0) in the training dataset:"
   ]
  },
  {
   "cell_type": "code",
   "execution_count": 47,
   "metadata": {},
   "outputs": [
    {
     "data": {
      "image/png": "[encoded data removed]",
      "text/plain": [
       "<Figure size 432x288 with 1 Axes>"
      ]
     },
     "metadata": {
      "needs_background": "light"
     },
     "output_type": "display_data"
    }
   ],
   "source": [
    "img = plt.imshow(x_train[1])"
   ]
  },
  {
   "cell_type": "code",
   "execution_count": 48,
   "metadata": {},
   "outputs": [
    {
     "name": "stdout",
     "output_type": "stream",
     "text": [
      "The label is: [9]\n"
     ]
    }
   ],
   "source": [
    "print('The label is:', y_train[1])"
   ]
  },
  {
   "cell_type": "markdown",
   "metadata": {},
   "source": [
    "What we want is the probability of each of the 10 different classes. \n",
    "For that, we need 10 output neurons in our neural network. Since we have 10 output neurons, our labels must match this as well.\n",
    "- Convert the label into a set of 10 numbers where each number represents if the image belongs to that class or not. \n",
    "- If an image belongs to the first class, the first number of this set will be a 1 and all other numbers in this set will be a 0. \n",
    "\n",
    "To convert our labels to our one-hot encoding, we use a function in Keras:"
   ]
  },
  {
   "cell_type": "code",
   "execution_count": 50,
   "metadata": {},
   "outputs": [],
   "source": [
    "import keras\n",
    "y_train_one_hot = keras.utils.to_categorical(y_train, 10)\n",
    "y_test_one_hot = keras.utils.to_categorical(y_test, 10)"
   ]
  },
  {
   "cell_type": "code",
   "execution_count": 51,
   "metadata": {},
   "outputs": [
    {
     "name": "stdout",
     "output_type": "stream",
     "text": [
      "The one hot label is: [0. 0. 0. 0. 0. 0. 0. 0. 0. 1.]\n"
     ]
    }
   ],
   "source": [
    "print('The one hot label is:', y_train_one_hot[1])"
   ]
  },
  {
   "cell_type": "markdown",
   "metadata": {},
   "source": [
    "A common step we do is to let the values to be between 0 and 1, which will aid in the training of our neural network. \n",
    "\n",
    "Since our pixel values already take the values between 0 and 255, we simply divide by 255."
   ]
  },
  {
   "cell_type": "code",
   "execution_count": 52,
   "metadata": {},
   "outputs": [
    {
     "data": {
      "text/plain": [
       "array([[[0.23137255, 0.24313726, 0.24705882],\n",
       "        [0.16862746, 0.18039216, 0.1764706 ],\n",
       "        [0.19607843, 0.1882353 , 0.16862746],\n",
       "        ...,\n",
       "        [0.61960787, 0.5176471 , 0.42352942],\n",
       "        [0.59607846, 0.49019608, 0.4       ],\n",
       "        [0.5803922 , 0.4862745 , 0.40392157]],\n",
       "\n",
       "       [[0.0627451 , 0.07843138, 0.07843138],\n",
       "        [0.        , 0.        , 0.        ],\n",
       "        [0.07058824, 0.03137255, 0.        ],\n",
       "        ...,\n",
       "        [0.48235294, 0.34509805, 0.21568628],\n",
       "        [0.46666667, 0.3254902 , 0.19607843],\n",
       "        [0.47843137, 0.34117648, 0.22352941]],\n",
       "\n",
       "       [[0.09803922, 0.09411765, 0.08235294],\n",
       "        [0.0627451 , 0.02745098, 0.        ],\n",
       "        [0.19215687, 0.10588235, 0.03137255],\n",
       "        ...,\n",
       "        [0.4627451 , 0.32941177, 0.19607843],\n",
       "        [0.47058824, 0.32941177, 0.19607843],\n",
       "        [0.42745098, 0.28627452, 0.16470589]],\n",
       "\n",
       "       ...,\n",
       "\n",
       "       [[0.8156863 , 0.6666667 , 0.3764706 ],\n",
       "        [0.7882353 , 0.6       , 0.13333334],\n",
       "        [0.7764706 , 0.6313726 , 0.10196079],\n",
       "        ...,\n",
       "        [0.627451  , 0.52156866, 0.27450982],\n",
       "        [0.21960784, 0.12156863, 0.02745098],\n",
       "        [0.20784314, 0.13333334, 0.07843138]],\n",
       "\n",
       "       [[0.7058824 , 0.54509807, 0.3764706 ],\n",
       "        [0.6784314 , 0.48235294, 0.16470589],\n",
       "        [0.7294118 , 0.5647059 , 0.11764706],\n",
       "        ...,\n",
       "        [0.72156864, 0.5803922 , 0.36862746],\n",
       "        [0.38039216, 0.24313726, 0.13333334],\n",
       "        [0.3254902 , 0.20784314, 0.13333334]],\n",
       "\n",
       "       [[0.69411767, 0.5647059 , 0.45490196],\n",
       "        [0.65882355, 0.5058824 , 0.36862746],\n",
       "        [0.7019608 , 0.5568628 , 0.34117648],\n",
       "        ...,\n",
       "        [0.84705883, 0.72156864, 0.54901963],\n",
       "        [0.5921569 , 0.4627451 , 0.32941177],\n",
       "        [0.48235294, 0.36078432, 0.28235295]]], dtype=float32)"
      ]
     },
     "execution_count": 52,
     "metadata": {},
     "output_type": "execute_result"
    }
   ],
   "source": [
    "x_train = x_train.astype('float32')\n",
    "x_test = x_test.astype('float32')\n",
    "x_train = x_train / 255\n",
    "x_test = x_test / 255\n",
    "\n",
    "x_train[0]"
   ]
  },
  {
   "cell_type": "markdown",
   "metadata": {},
   "source": [
    "## Build and Train CNN"
   ]
  },
  {
   "cell_type": "markdown",
   "metadata": {},
   "source": [
    "### Define architecture (template) \n",
    "- Conv Layer (Filter size 3x3, Depth 32)\n",
    "- Conv Layer (Filter size 3x3, Depth 32)\n",
    "- Max Pool Layer (Filter size 2x2)\n",
    "- Dropout Layer (Prob of dropout 0.25)\n",
    "- Conv Layer (Filter size 3x3, Depth 64)\n",
    "- Conv Layer (Filter size 3x3, Depth 64)\n",
    "- Max Pool Layer (Filter size 2x2)\n",
    "- Dropout Layer (Prob of dropout 0.25)\n",
    "- FC Layer (512 neurons)\n",
    "- Dropout Layer (Prob of dropout 0.5)\n",
    "- FC Layer, Softmax (10 neurons)\n",
    "\n",
    "Add layer by layer to the model"
   ]
  },
  {
   "cell_type": "code",
   "execution_count": 54,
   "metadata": {},
   "outputs": [],
   "source": [
    "model = Sequential() # empty model"
   ]
  },
  {
   "cell_type": "markdown",
   "metadata": {},
   "source": [
    "Add first layer:\n",
    "- The 1st number 32 refers to the depth. \n",
    "- The next pair of numbers (3,3) refer to the filter width and size.\n",
    "- Specify activation which is 'relu' and padding which is 'same'. Notice that we did not specify stride. This is because stride=1 is a default setting, and unless we want to change setting, we need not specify it.\n",
    "- Specify an input size for our first layer"
   ]
  },
  {
   "cell_type": "code",
   "execution_count": 55,
   "metadata": {},
   "outputs": [],
   "source": [
    "# Add 1st layer\n",
    "model.add(Conv2D(32, (3, 3), activation='relu', \n",
    "                 padding='same', input_shape=(32,32,3)))\n",
    "# Add 2nd layer\n",
    "model.add(Conv2D(32, (3, 3), activation='relu', padding='same'))"
   ]
  },
  {
   "cell_type": "markdown",
   "metadata": {},
   "source": [
    "The next layer is a max pooling layer with pool size 2 x 2 and stride 2 (in both dimensions). \n",
    "The default for a max pooling layer stride is the pool size, so we don't have to specify the stride:"
   ]
  },
  {
   "cell_type": "code",
   "execution_count": 56,
   "metadata": {},
   "outputs": [],
   "source": [
    "model.add(MaxPooling2D(pool_size=(2, 2)))"
   ]
  },
  {
   "cell_type": "markdown",
   "metadata": {},
   "source": [
    "Lastly, we add a dropout layer with probability 0.25 of dropout so as to prevent overfitting:"
   ]
  },
  {
   "cell_type": "code",
   "execution_count": 57,
   "metadata": {},
   "outputs": [],
   "source": [
    "model.add(Dropout(0.25))"
   ]
  },
  {
   "cell_type": "markdown",
   "metadata": {},
   "source": [
    "And there we have our first 4 layers in code. The next 4 layers look really similar (except the depth of the conv layer is 64 instead of 32):"
   ]
  },
  {
   "cell_type": "code",
   "execution_count": 58,
   "metadata": {},
   "outputs": [],
   "source": [
    "model.add(Conv2D(64, (3, 3), activation='relu', padding='same'))\n",
    "model.add(Conv2D(64, (3, 3), activation='relu', padding='same'))\n",
    "model.add(MaxPooling2D(pool_size=(2, 2)))\n",
    "model.add(Dropout(0.25))"
   ]
  },
  {
   "cell_type": "markdown",
   "metadata": {},
   "source": [
    "Lastly, we have to code in our fully connected layer. \n",
    "However, at this point, our neurons are spatially arranged in a cube-like format rather than in just one row. To make this cube-like format of neurons into one row, we have to first flatten it by adding a Flatten layer:"
   ]
  },
  {
   "cell_type": "code",
   "execution_count": 59,
   "metadata": {},
   "outputs": [],
   "source": [
    "model.add(Flatten())"
   ]
  },
  {
   "cell_type": "code",
   "execution_count": 60,
   "metadata": {},
   "outputs": [],
   "source": [
    "# We have a dense (FC) layer of 512 neurons with Relu activation:\n",
    "model.add(Dense(512, activation='relu'))\n",
    "# Add another dropout of probability 0.5:\n",
    "model.add(Dropout(0.5))\n",
    "# Lastly, we have a dense (FC) layer with 10 neurons & softmax activation\n",
    "model.add(Dense(10, activation='softmax'))"
   ]
  },
  {
   "cell_type": "markdown",
   "metadata": {},
   "source": [
    "And we're done with specifying our architecture! \n",
    "Check a summary of the full architecture:"
   ]
  },
  {
   "cell_type": "code",
   "execution_count": 61,
   "metadata": {},
   "outputs": [
    {
     "name": "stdout",
     "output_type": "stream",
     "text": [
      "Model: \"sequential_4\"\n",
      "_________________________________________________________________\n",
      "Layer (type)                 Output Shape              Param #   \n",
      "=================================================================\n",
      "conv2d_1 (Conv2D)            (None, 32, 32, 32)        896       \n",
      "_________________________________________________________________\n",
      "conv2d_2 (Conv2D)            (None, 32, 32, 32)        9248      \n",
      "_________________________________________________________________\n",
      "max_pooling2d_1 (MaxPooling2 (None, 16, 16, 32)        0         \n",
      "_________________________________________________________________\n",
      "dropout_5 (Dropout)          (None, 16, 16, 32)        0         \n",
      "_________________________________________________________________\n",
      "conv2d_3 (Conv2D)            (None, 16, 16, 64)        18496     \n",
      "_________________________________________________________________\n",
      "conv2d_4 (Conv2D)            (None, 16, 16, 64)        36928     \n",
      "_________________________________________________________________\n",
      "max_pooling2d_2 (MaxPooling2 (None, 8, 8, 64)          0         \n",
      "_________________________________________________________________\n",
      "dropout_6 (Dropout)          (None, 8, 8, 64)          0         \n",
      "_________________________________________________________________\n",
      "flatten_1 (Flatten)          (None, 4096)              0         \n",
      "_________________________________________________________________\n",
      "dense_14 (Dense)             (None, 512)               2097664   \n",
      "_________________________________________________________________\n",
      "dropout_7 (Dropout)          (None, 512)               0         \n",
      "_________________________________________________________________\n",
      "dense_15 (Dense)             (None, 10)                5130      \n",
      "=================================================================\n",
      "Total params: 2,168,362\n",
      "Trainable params: 2,168,362\n",
      "Non-trainable params: 0\n",
      "_________________________________________________________________\n"
     ]
    }
   ],
   "source": [
    "model.summary()"
   ]
  },
  {
   "cell_type": "markdown",
   "metadata": {},
   "source": [
    "Then fill in the best numbers after we've specified our architecture. We'll compile the model with our settings below.\n",
    "- The loss function we use is called categorical cross entropy, which is applicable for a classification problem of many classes. \n",
    "- The optimizer we use here is Adam. We haven't gone through the intuition of Adam yet, but know that Adam is simply a type of stochastic gradient descent (with a few modifications) so that it trains better.\n",
    "- Lastly, we want to track the accuracy of our model."
   ]
  },
  {
   "cell_type": "code",
   "execution_count": 62,
   "metadata": {},
   "outputs": [],
   "source": [
    "model.compile(loss='categorical_crossentropy',\n",
    "              optimizer='adam',\n",
    "              metrics=['accuracy'])"
   ]
  },
  {
   "cell_type": "markdown",
   "metadata": {},
   "source": [
    "Train our model with batch size 32 and 20 epochs. \n",
    "\n",
    "We use the setting validation_split=0.2 instead of validation_data. With this shortcut, we did not need to split our dataset into a train and validation set at the start! Instead, we simply specify how much of our dataset will be used as a validation set. \n",
    "\n",
    "In this case, 20% of our dataset is used as a validation set. This will take a while on a CPU."
   ]
  },
  {
   "cell_type": "code",
   "execution_count": 63,
   "metadata": {},
   "outputs": [
    {
     "name": "stdout",
     "output_type": "stream",
     "text": [
      "Train on 40000 samples, validate on 10000 samples\n",
      "Epoch 1/20\n",
      "40000/40000 [==============================] - 267s 7ms/step - loss: 1.5780 - accuracy: 0.4239 - val_loss: 1.2101 - val_accuracy: 0.5783\n",
      "Epoch 2/20\n",
      "40000/40000 [==============================] - 263s 7ms/step - loss: 1.1607 - accuracy: 0.5861 - val_loss: 0.9786 - val_accuracy: 0.6543\n",
      "Epoch 3/20\n",
      "40000/40000 [==============================] - 252s 6ms/step - loss: 1.0023 - accuracy: 0.6437 - val_loss: 0.8875 - val_accuracy: 0.6871\n",
      "Epoch 4/20\n",
      "40000/40000 [==============================] - 241s 6ms/step - loss: 0.9034 - accuracy: 0.6815 - val_loss: 0.8037 - val_accuracy: 0.7208\n",
      "Epoch 5/20\n",
      "40000/40000 [==============================] - 260s 7ms/step - loss: 0.8258 - accuracy: 0.7106 - val_loss: 0.8094 - val_accuracy: 0.7230\n",
      "Epoch 6/20\n",
      "40000/40000 [==============================] - 285s 7ms/step - loss: 0.7665 - accuracy: 0.7293 - val_loss: 0.7626 - val_accuracy: 0.7361\n",
      "Epoch 7/20\n",
      "40000/40000 [==============================] - 262s 7ms/step - loss: 0.7179 - accuracy: 0.7457 - val_loss: 0.7475 - val_accuracy: 0.7471\n",
      "Epoch 8/20\n",
      "40000/40000 [==============================] - 617s 15ms/step - loss: 0.6704 - accuracy: 0.7641 - val_loss: 0.7028 - val_accuracy: 0.7580\n",
      "Epoch 9/20\n",
      "40000/40000 [==============================] - 278s 7ms/step - loss: 0.6371 - accuracy: 0.7735 - val_loss: 0.7397 - val_accuracy: 0.7491\n",
      "Epoch 10/20\n",
      "40000/40000 [==============================] - 273s 7ms/step - loss: 0.6001 - accuracy: 0.7907 - val_loss: 0.7007 - val_accuracy: 0.7558\n",
      "Epoch 11/20\n",
      "40000/40000 [==============================] - 270s 7ms/step - loss: 0.5737 - accuracy: 0.7944 - val_loss: 0.7209 - val_accuracy: 0.7603\n",
      "Epoch 12/20\n",
      "40000/40000 [==============================] - 276s 7ms/step - loss: 0.5511 - accuracy: 0.8045 - val_loss: 0.7709 - val_accuracy: 0.7566\n",
      "Epoch 13/20\n",
      "40000/40000 [==============================] - 277s 7ms/step - loss: 0.5315 - accuracy: 0.8122 - val_loss: 0.6610 - val_accuracy: 0.7778\n",
      "Epoch 14/20\n",
      "40000/40000 [==============================] - 247s 6ms/step - loss: 0.5043 - accuracy: 0.8208 - val_loss: 0.7099 - val_accuracy: 0.7719\n",
      "Epoch 15/20\n",
      "40000/40000 [==============================] - 233s 6ms/step - loss: 0.4836 - accuracy: 0.8284 - val_loss: 0.6881 - val_accuracy: 0.7706\n",
      "Epoch 16/20\n",
      "40000/40000 [==============================] - 229s 6ms/step - loss: 0.4730 - accuracy: 0.8325 - val_loss: 0.6927 - val_accuracy: 0.7745\n",
      "Epoch 17/20\n",
      "40000/40000 [==============================] - 228s 6ms/step - loss: 0.4514 - accuracy: 0.8399 - val_loss: 0.6946 - val_accuracy: 0.7751\n",
      "Epoch 18/20\n",
      "40000/40000 [==============================] - 230s 6ms/step - loss: 0.4403 - accuracy: 0.8430 - val_loss: 0.7228 - val_accuracy: 0.7771\n",
      "Epoch 19/20\n",
      "40000/40000 [==============================] - 227s 6ms/step - loss: 0.4277 - accuracy: 0.8478 - val_loss: 0.7515 - val_accuracy: 0.7659\n",
      "Epoch 20/20\n",
      "40000/40000 [==============================] - 227s 6ms/step - loss: 0.4202 - accuracy: 0.8521 - val_loss: 0.6871 - val_accuracy: 0.7722\n"
     ]
    }
   ],
   "source": [
    "hist = model.fit(x_train, y_train_one_hot, \n",
    "           batch_size=32, epochs=20, \n",
    "           validation_split=0.2)"
   ]
  },
  {
   "cell_type": "markdown",
   "metadata": {},
   "source": [
    "#### Visualize the loss and accuracy"
   ]
  },
  {
   "cell_type": "code",
   "execution_count": 64,
   "metadata": {},
   "outputs": [
    {
     "data": {
      "image/png": "[encoded data removed]",
      "text/plain": [
       "<Figure size 432x288 with 1 Axes>"
      ]
     },
     "metadata": {
      "needs_background": "light"
     },
     "output_type": "display_data"
    }
   ],
   "source": [
    "plt.plot(hist.history['loss'])\n",
    "plt.plot(hist.history['val_loss'])\n",
    "plt.title('Model loss')\n",
    "plt.ylabel('Loss')\n",
    "plt.xlabel('Epoch')\n",
    "plt.legend(['Train', 'Val'], loc='upper right')\n",
    "plt.show()"
   ]
  },
  {
   "cell_type": "code",
   "execution_count": 66,
   "metadata": {},
   "outputs": [
    {
     "data": {
      "image/png": "[encoded data removed]",
      "text/plain": [
       "<Figure size 432x288 with 1 Axes>"
      ]
     },
     "metadata": {
      "needs_background": "light"
     },
     "output_type": "display_data"
    }
   ],
   "source": [
    "plt.plot(hist.history['accuracy'])\n",
    "plt.plot(hist.history['val_accuracy'])\n",
    "plt.title('Model accuracy')\n",
    "plt.ylabel('Accuracy')\n",
    "plt.xlabel('Epoch')\n",
    "plt.legend(['Train', 'Val'], loc='lower right')\n",
    "plt.show()"
   ]
  },
  {
   "cell_type": "code",
   "execution_count": 67,
   "metadata": {},
   "outputs": [
    {
     "name": "stdout",
     "output_type": "stream",
     "text": [
      "10000/10000 [==============================] - 11s 1ms/step\n"
     ]
    },
    {
     "data": {
      "text/plain": [
       "0.7664999961853027"
      ]
     },
     "execution_count": 67,
     "metadata": {},
     "output_type": "execute_result"
    }
   ],
   "source": [
    "model.evaluate(x_test, y_test_one_hot)[1]"
   ]
  },
  {
   "cell_type": "code",
   "execution_count": 68,
   "metadata": {},
   "outputs": [],
   "source": [
    "# Save model in a file format of HDF5 (with the extension .h5):\n",
    "model.save('my_cifar10_model.h5')"
   ]
  },
  {
   "cell_type": "markdown",
   "metadata": {},
   "source": [
    "## Test with own image"
   ]
  },
  {
   "cell_type": "code",
   "execution_count": 69,
   "metadata": {},
   "outputs": [],
   "source": [
    "# Read JPEG file as an array of pixel values\n",
    "my_image = plt.imread(\"cat.jpg\")"
   ]
  },
  {
   "cell_type": "code",
   "execution_count": 70,
   "metadata": {},
   "outputs": [
    {
     "data": {
      "image/png": "[encoded data removed]",
      "text/plain": [
       "<Figure size 432x288 with 1 Axes>"
      ]
     },
     "metadata": {
      "needs_background": "light"
     },
     "output_type": "display_data"
    }
   ],
   "source": [
    "# Resize the cat image to fit it into our model (input size of 32 32 3)\n",
    "from skimage.transform import resize\n",
    "my_image_resized = resize(my_image, (32,32,3))\n",
    "img = plt.imshow(my_image_resized)"
   ]
  },
  {
   "cell_type": "code",
   "execution_count": 71,
   "metadata": {},
   "outputs": [
    {
     "data": {
      "text/plain": [
       "array([[6.30424938e-06, 2.73335967e-08, 4.28606989e-03, 3.24721411e-02,\n",
       "        1.24156047e-02, 1.16018735e-01, 3.67144160e-02, 7.97724664e-01,\n",
       "        3.61691869e-04, 3.84180481e-07]], dtype=float32)"
      ]
     },
     "execution_count": 71,
     "metadata": {},
     "output_type": "execute_result"
    }
   ],
   "source": [
    "# Check the output with own cat image\n",
    "import numpy as np\n",
    "probabilities = model.predict(np.array( [my_image_resized,] ))\n",
    "probabilities"
   ]
  },
  {
   "cell_type": "code",
   "execution_count": 72,
   "metadata": {},
   "outputs": [
    {
     "name": "stdout",
     "output_type": "stream",
     "text": [
      "Most likely class: horse -- Probability: 0.79772466\n",
      "2nd most likely class: dog -- Probability: 0.116018735\n",
      "3rd most likely class: frog -- Probability: 0.036714416\n",
      "4th most likely class: cat -- Probability: 0.03247214\n",
      "5th most likely class: deer -- Probability: 0.012415605\n"
     ]
    }
   ],
   "source": [
    "number_to_class = ['airplane', 'automobile', 'bird', \n",
    "                   'cat', 'deer', 'dog', 'frog', \n",
    "                   'horse', 'ship', 'truck']\n",
    "\n",
    "index = np.argsort(probabilities[0,:])\n",
    "\n",
    "print(\"Most likely class:\", number_to_class[index[9]], \"-- Probability:\", probabilities[0,index[9]])\n",
    "print(\"2nd most likely class:\", number_to_class[index[8]], \"-- Probability:\", probabilities[0,index[8]])\n",
    "print(\"3rd most likely class:\", number_to_class[index[7]], \"-- Probability:\", probabilities[0,index[7]])\n",
    "print(\"4th most likely class:\", number_to_class[index[6]], \"-- Probability:\", probabilities[0,index[6]])\n",
    "print(\"5th most likely class:\", number_to_class[index[5]], \"-- Probability:\", probabilities[0,index[5]])"
   ]
  },
  {
   "cell_type": "markdown",
   "metadata": {},
   "source": [
    "The model has accurately predicted that this is indeed an image of a cat. Now, this isn't the best model we have, and accuracy has been quite low, so don't expect too much out of it."
   ]
  },
  {
   "cell_type": "code",
   "execution_count": null,
   "metadata": {},
   "outputs": [],
   "source": []
  }
 ],
 "metadata": {
  "kernelspec": {
   "display_name": "Python 3",
   "language": "python",
   "name": "python3"
  },
  "language_info": {
   "codemirror_mode": {
    "name": "ipython",
    "version": 3
   },
   "file_extension": ".py",
   "mimetype": "text/x-python",
   "name": "python",
   "nbconvert_exporter": "python",
   "pygments_lexer": "ipython3",
   "version": "3.7.3"
  }
 },
 "nbformat": 4,
 "nbformat_minor": 2
}
