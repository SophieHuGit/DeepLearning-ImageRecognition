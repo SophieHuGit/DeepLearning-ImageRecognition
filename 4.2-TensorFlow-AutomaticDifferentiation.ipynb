{
 "cells": [
  {
   "cell_type": "markdown",
   "metadata": {},
   "source": [
    "#  Deep Learning and Image Recognition\n",
    "\n",
    "## TensorFlow Automatic Differentiation, Optimization \n",
    "\n",
    "\n",
    "TensorFlow provides functions to compute the derivatives for a given TensorFlow computation graph, adding operations to the graph. The optimizer classes automatically compute derivatives on your graph, but creators of new Optimizers or expert users can call the lower-level functions below."
   ]
  },
  {
   "cell_type": "code",
   "execution_count": 1,
   "metadata": {},
   "outputs": [],
   "source": [
    "from datetime import datetime\n",
    "import tensorflow as tf"
   ]
  },
  {
   "cell_type": "markdown",
   "metadata": {},
   "source": [
    "### Gradient Computation\n",
    "\n",
    "In order to compute gradient of function with respect to a variable you have to define both. Also you have to specify value at which you want to compute the gradient. "
   ]
  },
  {
   "cell_type": "code",
   "execution_count": 2,
   "metadata": {},
   "outputs": [
    {
     "name": "stdout",
     "output_type": "stream",
     "text": [
      "tf.Tensor(10.0, shape=(), dtype=float32)\n"
     ]
    }
   ],
   "source": [
    "x = tf.Variable(5.0)\n",
    "\n",
    "#compute gradient of y=x**2\n",
    "with tf.GradientTape() as tape:\n",
    "    y = x * x\n",
    "\n",
    "grad = tape.gradient(y, x)\n",
    "print(grad)"
   ]
  },
  {
   "cell_type": "code",
   "execution_count": 3,
   "metadata": {},
   "outputs": [
    {
     "name": "stdout",
     "output_type": "stream",
     "text": [
      "tf.Tensor([[10.      20.      30.46464]], shape=(1, 3), dtype=float32)\n"
     ]
    }
   ],
   "source": [
    "x = tf.Variable([[5.0, 10, 15.23232]])\n",
    "\n",
    "#compute gradient of y=x**2\n",
    "with tf.GradientTape() as tape:\n",
    "    y = x * x\n",
    "\n",
    "grad = tape.gradient(y, x)\n",
    "print(grad)"
   ]
  },
  {
   "cell_type": "code",
   "execution_count": 4,
   "metadata": {},
   "outputs": [
    {
     "name": "stdout",
     "output_type": "stream",
     "text": [
      "tf.Tensor(7.0, shape=(), dtype=float32)\n"
     ]
    }
   ],
   "source": [
    "x = tf.Variable(3.0)\n",
    "\n",
    "#compute gradient of y=x**2+x+1 with respect to x at 3\n",
    "with tf.GradientTape() as tape:\n",
    "    y = x**2 + x - 1\n",
    "\n",
    "grad = tape.gradient(y, x)\n",
    "print(grad) "
   ]
  },
  {
   "cell_type": "markdown",
   "metadata": {},
   "source": [
    "### Optimization\n",
    "\n",
    "TensorFlow uses reverse mode automatic differentiation for it's gradients operation and finite difference method for tests that check validity of gradient operation\n",
    "\n",
    "Optimize the following:  $min (x + 1)^2$\n",
    "\n",
    "$\\frac{d}{dx} (x+1)^2 = 2*(x+1)$"
   ]
  },
  {
   "cell_type": "code",
   "execution_count": 5,
   "metadata": {},
   "outputs": [],
   "source": [
    "#Visualize the Compute Graph using TensorBoard\n",
    "\n",
    "logdir=\"/tmp/\" + datetime.now().strftime(\"%Y%m%d-%H%M%S\")\n",
    "\n",
    "summary_writer = tf.summary.create_file_writer(logdir)\n",
    "#tensorboard_callback = tf.keras.callbacks.TensorBoard(log_dir=logdir)"
   ]
  },
  {
   "cell_type": "code",
   "execution_count": 7,
   "metadata": {},
   "outputs": [
    {
     "name": "stdout",
     "output_type": "stream",
     "text": [
      "Epoch : 0 [3.0, 11.0]\n",
      "Epoch : 1 [2.3, 6.59]\n",
      "Epoch : 2 [1.7399999, 3.7675996]\n",
      "Epoch : 3 [1.2919999, 1.9612638]\n",
      "Epoch : 4 [0.93359995, 0.8052088]\n",
      "Epoch : 5 [0.64688, 0.065333664]\n",
      "Epoch : 6 [0.41750398, -0.40818647]\n",
      "Epoch : 7 [0.23400319, -0.71123934]\n",
      "Epoch : 8 [0.08720255, -0.90519315]\n",
      "Epoch : 9 [-0.030237963, -1.0293236]\n",
      "Epoch : 10 [-0.12419037, -1.108767]\n",
      "Epoch : 11 [-0.1993523, -1.159611]\n",
      "Epoch : 12 [-0.25948185, -1.1921511]\n",
      "Epoch : 13 [-0.30758548, -1.2129767]\n",
      "Epoch : 14 [-0.34606838, -1.226305]\n",
      "Epoch : 15 [-0.37685472, -1.2348351]\n",
      "Epoch : 16 [-0.40148377, -1.2402946]\n",
      "Epoch : 17 [-0.421187, -1.2437885]\n",
      "Epoch : 18 [-0.4369496, -1.2460246]\n",
      "Epoch : 19 [-0.4495597, -1.2474558]\n",
      "Epoch : 20 [-0.45964774, -1.2483717]\n",
      "Epoch : 21 [-0.4677182, -1.2489579]\n",
      "Epoch : 22 [-0.4741746, -1.2493331]\n",
      "Epoch : 23 [-0.4793397, -1.2495732]\n",
      "Epoch : 24 [-0.48347175, -1.2497268]\n",
      "Epoch : 25 [-0.4867774, -1.2498252]\n",
      "Epoch : 26 [-0.48942193, -1.2498882]\n",
      "Epoch : 27 [-0.49153754, -1.2499285]\n",
      "Epoch : 28 [-0.49323004, -1.2499542]\n",
      "Epoch : 29 [-0.49458405, -1.2499707]\n"
     ]
    }
   ],
   "source": [
    "from tensorflow.python.training import gradient_descent\n",
    "\n",
    "x = tf.Variable(3.0, trainable=True)\n",
    "\n",
    "epochs = 30\n",
    "\n",
    "@tf.function\n",
    "def f_x():\n",
    "    return x**2 + x - 1\n",
    "\n",
    "for epoch in range(epochs):\n",
    "    print(\"Epoch :\", epoch, [x.numpy(), f_x().numpy()])\n",
    "    opt = gradient_descent.GradientDescentOptimizer(0.1).minimize(f_x)\n",
    "    tf.summary.scalar('loss', f_x().numpy(), step=epoch)\n",
    "    "
   ]
  },
  {
   "cell_type": "markdown",
   "metadata": {},
   "source": [
    "Type the following command from the terminal to start TensorBoard. For Mac, Linux the <b>!</b> mark before the command runs it directly from the notebook\n",
    "\n",
    "<code>tensorboard --logdir=/logs/</code>"
   ]
  },
  {
   "cell_type": "code",
   "execution_count": null,
   "metadata": {},
   "outputs": [],
   "source": [
    "#!tensorboard --logdir=/logs/tensorflow_logs "
   ]
  }
 ],
 "metadata": {
  "kernelspec": {
   "display_name": "Python 3",
   "language": "python",
   "name": "python3"
  },
  "language_info": {
   "codemirror_mode": {
    "name": "ipython",
    "version": 3
   },
   "file_extension": ".py",
   "mimetype": "text/x-python",
   "name": "python",
   "nbconvert_exporter": "python",
   "pygments_lexer": "ipython3",
   "version": "3.7.3"
  }
 },
 "nbformat": 4,
 "nbformat_minor": 1
}
